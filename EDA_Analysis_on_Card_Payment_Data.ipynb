{
 "cells": [
  {
   "cell_type": "code",
   "execution_count": 1,
   "id": "7bb9d8a5",
   "metadata": {},
   "outputs": [],
   "source": [
    "import pandas as pd\n",
    "import matplotlib as mlt\n",
    "from matplotlib import pyplot as plt\n",
    "import numpy as np\n"
   ]
  },
  {
   "cell_type": "code",
   "execution_count": 2,
   "id": "5fdffe9b",
   "metadata": {},
   "outputs": [],
   "source": [
    "#import dataset from location\n",
    "data=pd.read_csv(\"C:/Users/ADMIN/Desktop/rbi_payment_data_as_on_aug_2019.csv\")"
   ]
  },
  {
   "cell_type": "code",
   "execution_count": 3,
   "id": "490d95cf",
   "metadata": {},
   "outputs": [
    {
     "data": {
      "text/html": [
       "<div>\n",
       "<style scoped>\n",
       "    .dataframe tbody tr th:only-of-type {\n",
       "        vertical-align: middle;\n",
       "    }\n",
       "\n",
       "    .dataframe tbody tr th {\n",
       "        vertical-align: top;\n",
       "    }\n",
       "\n",
       "    .dataframe thead th {\n",
       "        text-align: right;\n",
       "    }\n",
       "</style>\n",
       "<table border=\"1\" class=\"dataframe\">\n",
       "  <thead>\n",
       "    <tr style=\"text-align: right;\">\n",
       "      <th></th>\n",
       "      <th>month</th>\n",
       "      <th>year</th>\n",
       "      <th>month_number</th>\n",
       "      <th>start_date</th>\n",
       "      <th>end_date</th>\n",
       "      <th>bank_name</th>\n",
       "      <th>no_atms_on_site</th>\n",
       "      <th>no_atms_off_site</th>\n",
       "      <th>no_pos_on_line</th>\n",
       "      <th>no_pos_off_line</th>\n",
       "      <th>no_credit_cards</th>\n",
       "      <th>no_credit_card_atm_txn</th>\n",
       "      <th>no_credit_card_pos_txn</th>\n",
       "      <th>no_credit_card_atm_txn_value_in_mn</th>\n",
       "      <th>no_credit_card_pos_txn_value_in_mn</th>\n",
       "      <th>no_debit_cards</th>\n",
       "      <th>no_debit_card_atm_txn</th>\n",
       "      <th>no_debit_card_pos_txn</th>\n",
       "      <th>no_debit_card_atm_txn_value_in_mn</th>\n",
       "      <th>no_debit_card_pos_txn_value_in_mn</th>\n",
       "    </tr>\n",
       "  </thead>\n",
       "  <tbody>\n",
       "    <tr>\n",
       "      <th>0</th>\n",
       "      <td>November</td>\n",
       "      <td>2011</td>\n",
       "      <td>11</td>\n",
       "      <td>01/11/2011</td>\n",
       "      <td>30/11/2011</td>\n",
       "      <td>Allahabad Bank</td>\n",
       "      <td>207</td>\n",
       "      <td>109</td>\n",
       "      <td>0</td>\n",
       "      <td>0.0</td>\n",
       "      <td>0.0</td>\n",
       "      <td>0</td>\n",
       "      <td>0</td>\n",
       "      <td>0.0</td>\n",
       "      <td>0.0</td>\n",
       "      <td>1190454.0</td>\n",
       "      <td>540824.0</td>\n",
       "      <td>54356.0</td>\n",
       "      <td>1200.0</td>\n",
       "      <td>102.5</td>\n",
       "    </tr>\n",
       "    <tr>\n",
       "      <th>1</th>\n",
       "      <td>November</td>\n",
       "      <td>2011</td>\n",
       "      <td>11</td>\n",
       "      <td>01/11/2011</td>\n",
       "      <td>30/11/2011</td>\n",
       "      <td>Andhra Bank</td>\n",
       "      <td>479</td>\n",
       "      <td>554</td>\n",
       "      <td>2122</td>\n",
       "      <td>0.0</td>\n",
       "      <td>121514.0</td>\n",
       "      <td>3243</td>\n",
       "      <td>92370</td>\n",
       "      <td>28.5</td>\n",
       "      <td>234.7</td>\n",
       "      <td>6698887.0</td>\n",
       "      <td>6871864.0</td>\n",
       "      <td>325458.0</td>\n",
       "      <td>17775.4</td>\n",
       "      <td>451.1</td>\n",
       "    </tr>\n",
       "    <tr>\n",
       "      <th>2</th>\n",
       "      <td>November</td>\n",
       "      <td>2011</td>\n",
       "      <td>11</td>\n",
       "      <td>01/11/2011</td>\n",
       "      <td>30/11/2011</td>\n",
       "      <td>Bank of Baroda</td>\n",
       "      <td>1242</td>\n",
       "      <td>580</td>\n",
       "      <td>4332</td>\n",
       "      <td>0.0</td>\n",
       "      <td>70776.0</td>\n",
       "      <td>2046</td>\n",
       "      <td>72198</td>\n",
       "      <td>1.5</td>\n",
       "      <td>190.4</td>\n",
       "      <td>7307099.0</td>\n",
       "      <td>6715369.0</td>\n",
       "      <td>462172.0</td>\n",
       "      <td>25166.7</td>\n",
       "      <td>695.3</td>\n",
       "    </tr>\n",
       "    <tr>\n",
       "      <th>3</th>\n",
       "      <td>November</td>\n",
       "      <td>2011</td>\n",
       "      <td>11</td>\n",
       "      <td>01/11/2011</td>\n",
       "      <td>30/11/2011</td>\n",
       "      <td>Bank of India</td>\n",
       "      <td>838</td>\n",
       "      <td>792</td>\n",
       "      <td>1930</td>\n",
       "      <td>501.0</td>\n",
       "      <td>119248.0</td>\n",
       "      <td>7824</td>\n",
       "      <td>88123</td>\n",
       "      <td>54.8</td>\n",
       "      <td>236.6</td>\n",
       "      <td>8247225.0</td>\n",
       "      <td>2048888.0</td>\n",
       "      <td>474882.0</td>\n",
       "      <td>7048.8</td>\n",
       "      <td>624.8</td>\n",
       "    </tr>\n",
       "    <tr>\n",
       "      <th>4</th>\n",
       "      <td>November</td>\n",
       "      <td>2011</td>\n",
       "      <td>11</td>\n",
       "      <td>01/11/2011</td>\n",
       "      <td>30/11/2011</td>\n",
       "      <td>Bank of Maharashtra</td>\n",
       "      <td>359</td>\n",
       "      <td>141</td>\n",
       "      <td>77</td>\n",
       "      <td>404.0</td>\n",
       "      <td>23436.0</td>\n",
       "      <td>110</td>\n",
       "      <td>15995</td>\n",
       "      <td>3.6</td>\n",
       "      <td>36.8</td>\n",
       "      <td>2286937.0</td>\n",
       "      <td>2055968.0</td>\n",
       "      <td>156694.0</td>\n",
       "      <td>6190.3</td>\n",
       "      <td>216.1</td>\n",
       "    </tr>\n",
       "  </tbody>\n",
       "</table>\n",
       "</div>"
      ],
      "text/plain": [
       "      month  year  month_number  start_date    end_date            bank_name  \\\n",
       "0  November  2011            11  01/11/2011  30/11/2011       Allahabad Bank   \n",
       "1  November  2011            11  01/11/2011  30/11/2011          Andhra Bank   \n",
       "2  November  2011            11  01/11/2011  30/11/2011       Bank of Baroda   \n",
       "3  November  2011            11  01/11/2011  30/11/2011        Bank of India   \n",
       "4  November  2011            11  01/11/2011  30/11/2011  Bank of Maharashtra   \n",
       "\n",
       "   no_atms_on_site  no_atms_off_site  no_pos_on_line  no_pos_off_line  \\\n",
       "0              207               109               0              0.0   \n",
       "1              479               554            2122              0.0   \n",
       "2             1242               580            4332              0.0   \n",
       "3              838               792            1930            501.0   \n",
       "4              359               141              77            404.0   \n",
       "\n",
       "   no_credit_cards  no_credit_card_atm_txn  no_credit_card_pos_txn  \\\n",
       "0              0.0                       0                       0   \n",
       "1         121514.0                    3243                   92370   \n",
       "2          70776.0                    2046                   72198   \n",
       "3         119248.0                    7824                   88123   \n",
       "4          23436.0                     110                   15995   \n",
       "\n",
       "   no_credit_card_atm_txn_value_in_mn  no_credit_card_pos_txn_value_in_mn  \\\n",
       "0                                 0.0                                 0.0   \n",
       "1                                28.5                               234.7   \n",
       "2                                 1.5                               190.4   \n",
       "3                                54.8                               236.6   \n",
       "4                                 3.6                                36.8   \n",
       "\n",
       "   no_debit_cards  no_debit_card_atm_txn  no_debit_card_pos_txn  \\\n",
       "0       1190454.0               540824.0                54356.0   \n",
       "1       6698887.0              6871864.0               325458.0   \n",
       "2       7307099.0              6715369.0               462172.0   \n",
       "3       8247225.0              2048888.0               474882.0   \n",
       "4       2286937.0              2055968.0               156694.0   \n",
       "\n",
       "   no_debit_card_atm_txn_value_in_mn  no_debit_card_pos_txn_value_in_mn  \n",
       "0                             1200.0                              102.5  \n",
       "1                            17775.4                              451.1  \n",
       "2                            25166.7                              695.3  \n",
       "3                             7048.8                              624.8  \n",
       "4                             6190.3                              216.1  "
      ]
     },
     "execution_count": 3,
     "metadata": {},
     "output_type": "execute_result"
    }
   ],
   "source": [
    "#checck  first  5 Columns in the data\n",
    "data.head()"
   ]
  },
  {
   "cell_type": "code",
   "execution_count": 4,
   "id": "f059433d",
   "metadata": {},
   "outputs": [
    {
     "data": {
      "text/html": [
       "<div>\n",
       "<style scoped>\n",
       "    .dataframe tbody tr th:only-of-type {\n",
       "        vertical-align: middle;\n",
       "    }\n",
       "\n",
       "    .dataframe tbody tr th {\n",
       "        vertical-align: top;\n",
       "    }\n",
       "\n",
       "    .dataframe thead th {\n",
       "        text-align: right;\n",
       "    }\n",
       "</style>\n",
       "<table border=\"1\" class=\"dataframe\">\n",
       "  <thead>\n",
       "    <tr style=\"text-align: right;\">\n",
       "      <th></th>\n",
       "      <th>month</th>\n",
       "      <th>year</th>\n",
       "      <th>month_number</th>\n",
       "      <th>start_date</th>\n",
       "      <th>end_date</th>\n",
       "      <th>bank_name</th>\n",
       "      <th>no_atms_on_site</th>\n",
       "      <th>no_atms_off_site</th>\n",
       "      <th>no_pos_on_line</th>\n",
       "      <th>no_pos_off_line</th>\n",
       "      <th>no_credit_cards</th>\n",
       "      <th>no_credit_card_atm_txn</th>\n",
       "      <th>no_credit_card_pos_txn</th>\n",
       "      <th>no_credit_card_atm_txn_value_in_mn</th>\n",
       "      <th>no_credit_card_pos_txn_value_in_mn</th>\n",
       "      <th>no_debit_cards</th>\n",
       "      <th>no_debit_card_atm_txn</th>\n",
       "      <th>no_debit_card_pos_txn</th>\n",
       "      <th>no_debit_card_atm_txn_value_in_mn</th>\n",
       "      <th>no_debit_card_pos_txn_value_in_mn</th>\n",
       "    </tr>\n",
       "  </thead>\n",
       "  <tbody>\n",
       "    <tr>\n",
       "      <th>5587</th>\n",
       "      <td>August</td>\n",
       "      <td>2019</td>\n",
       "      <td>8</td>\n",
       "      <td>01/08/2019</td>\n",
       "      <td>31/08/2019</td>\n",
       "      <td>JANA SMALL FINANCE BANK LIMITED</td>\n",
       "      <td>122</td>\n",
       "      <td>3</td>\n",
       "      <td>0</td>\n",
       "      <td>0.0</td>\n",
       "      <td>0.0</td>\n",
       "      <td>0</td>\n",
       "      <td>0</td>\n",
       "      <td>0.0</td>\n",
       "      <td>0.0</td>\n",
       "      <td>499608.0</td>\n",
       "      <td>308561.0</td>\n",
       "      <td>65579.0</td>\n",
       "      <td>15323.193890</td>\n",
       "      <td>744.128791</td>\n",
       "    </tr>\n",
       "    <tr>\n",
       "      <th>5588</th>\n",
       "      <td>August</td>\n",
       "      <td>2019</td>\n",
       "      <td>8</td>\n",
       "      <td>01/08/2019</td>\n",
       "      <td>31/08/2019</td>\n",
       "      <td>NORTH EAST SMALL FINANCE BANK LIMITED</td>\n",
       "      <td>0</td>\n",
       "      <td>0</td>\n",
       "      <td>0</td>\n",
       "      <td>0.0</td>\n",
       "      <td>0.0</td>\n",
       "      <td>0</td>\n",
       "      <td>0</td>\n",
       "      <td>0.0</td>\n",
       "      <td>0.0</td>\n",
       "      <td>77894.0</td>\n",
       "      <td>12162.0</td>\n",
       "      <td>3532.0</td>\n",
       "      <td>423.053800</td>\n",
       "      <td>125.715148</td>\n",
       "    </tr>\n",
       "    <tr>\n",
       "      <th>5589</th>\n",
       "      <td>August</td>\n",
       "      <td>2019</td>\n",
       "      <td>8</td>\n",
       "      <td>01/08/2019</td>\n",
       "      <td>31/08/2019</td>\n",
       "      <td>SURYODAY SMALL FINANCE BANK LIMITED</td>\n",
       "      <td>25</td>\n",
       "      <td>1</td>\n",
       "      <td>0</td>\n",
       "      <td>0.0</td>\n",
       "      <td>0.0</td>\n",
       "      <td>0</td>\n",
       "      <td>0</td>\n",
       "      <td>0.0</td>\n",
       "      <td>0.0</td>\n",
       "      <td>25567.0</td>\n",
       "      <td>26400.0</td>\n",
       "      <td>13358.0</td>\n",
       "      <td>470.029000</td>\n",
       "      <td>135.081704</td>\n",
       "    </tr>\n",
       "    <tr>\n",
       "      <th>5590</th>\n",
       "      <td>August</td>\n",
       "      <td>2019</td>\n",
       "      <td>8</td>\n",
       "      <td>01/08/2019</td>\n",
       "      <td>31/08/2019</td>\n",
       "      <td>UJJIVAN SMALL FINANCE BANK LIMITED</td>\n",
       "      <td>427</td>\n",
       "      <td>3</td>\n",
       "      <td>0</td>\n",
       "      <td>0.0</td>\n",
       "      <td>0.0</td>\n",
       "      <td>0</td>\n",
       "      <td>0</td>\n",
       "      <td>0.0</td>\n",
       "      <td>0.0</td>\n",
       "      <td>3934133.0</td>\n",
       "      <td>2102691.0</td>\n",
       "      <td>365036.0</td>\n",
       "      <td>85077.473000</td>\n",
       "      <td>3114.916755</td>\n",
       "    </tr>\n",
       "    <tr>\n",
       "      <th>5591</th>\n",
       "      <td>August</td>\n",
       "      <td>2019</td>\n",
       "      <td>8</td>\n",
       "      <td>01/08/2019</td>\n",
       "      <td>31/08/2019</td>\n",
       "      <td>UTKARSH SMALL FINANCE BANK LIMITED</td>\n",
       "      <td>136</td>\n",
       "      <td>3</td>\n",
       "      <td>0</td>\n",
       "      <td>0.0</td>\n",
       "      <td>0.0</td>\n",
       "      <td>0</td>\n",
       "      <td>0</td>\n",
       "      <td>0.0</td>\n",
       "      <td>0.0</td>\n",
       "      <td>244482.0</td>\n",
       "      <td>92810.0</td>\n",
       "      <td>38009.0</td>\n",
       "      <td>3293.056176</td>\n",
       "      <td>384.329245</td>\n",
       "    </tr>\n",
       "  </tbody>\n",
       "</table>\n",
       "</div>"
      ],
      "text/plain": [
       "       month  year  month_number  start_date    end_date  \\\n",
       "5587  August  2019             8  01/08/2019  31/08/2019   \n",
       "5588  August  2019             8  01/08/2019  31/08/2019   \n",
       "5589  August  2019             8  01/08/2019  31/08/2019   \n",
       "5590  August  2019             8  01/08/2019  31/08/2019   \n",
       "5591  August  2019             8  01/08/2019  31/08/2019   \n",
       "\n",
       "                                  bank_name  no_atms_on_site  \\\n",
       "5587        JANA SMALL FINANCE BANK LIMITED              122   \n",
       "5588  NORTH EAST SMALL FINANCE BANK LIMITED                0   \n",
       "5589    SURYODAY SMALL FINANCE BANK LIMITED               25   \n",
       "5590     UJJIVAN SMALL FINANCE BANK LIMITED              427   \n",
       "5591     UTKARSH SMALL FINANCE BANK LIMITED              136   \n",
       "\n",
       "      no_atms_off_site  no_pos_on_line  no_pos_off_line  no_credit_cards  \\\n",
       "5587                 3               0              0.0              0.0   \n",
       "5588                 0               0              0.0              0.0   \n",
       "5589                 1               0              0.0              0.0   \n",
       "5590                 3               0              0.0              0.0   \n",
       "5591                 3               0              0.0              0.0   \n",
       "\n",
       "      no_credit_card_atm_txn  no_credit_card_pos_txn  \\\n",
       "5587                       0                       0   \n",
       "5588                       0                       0   \n",
       "5589                       0                       0   \n",
       "5590                       0                       0   \n",
       "5591                       0                       0   \n",
       "\n",
       "      no_credit_card_atm_txn_value_in_mn  no_credit_card_pos_txn_value_in_mn  \\\n",
       "5587                                 0.0                                 0.0   \n",
       "5588                                 0.0                                 0.0   \n",
       "5589                                 0.0                                 0.0   \n",
       "5590                                 0.0                                 0.0   \n",
       "5591                                 0.0                                 0.0   \n",
       "\n",
       "      no_debit_cards  no_debit_card_atm_txn  no_debit_card_pos_txn  \\\n",
       "5587        499608.0               308561.0                65579.0   \n",
       "5588         77894.0                12162.0                 3532.0   \n",
       "5589         25567.0                26400.0                13358.0   \n",
       "5590       3934133.0              2102691.0               365036.0   \n",
       "5591        244482.0                92810.0                38009.0   \n",
       "\n",
       "      no_debit_card_atm_txn_value_in_mn  no_debit_card_pos_txn_value_in_mn  \n",
       "5587                       15323.193890                         744.128791  \n",
       "5588                         423.053800                         125.715148  \n",
       "5589                         470.029000                         135.081704  \n",
       "5590                       85077.473000                        3114.916755  \n",
       "5591                        3293.056176                         384.329245  "
      ]
     },
     "execution_count": 4,
     "metadata": {},
     "output_type": "execute_result"
    }
   ],
   "source": [
    "#check last column from data\n",
    "data.tail()"
   ]
  },
  {
   "cell_type": "code",
   "execution_count": 5,
   "id": "5c1185b9",
   "metadata": {},
   "outputs": [
    {
     "data": {
      "text/plain": [
       "month                                 5592\n",
       "year                                  5592\n",
       "month_number                          5592\n",
       "start_date                            5592\n",
       "end_date                              5592\n",
       "bank_name                             5592\n",
       "no_atms_on_site                       5592\n",
       "no_atms_off_site                      5592\n",
       "no_pos_on_line                        5592\n",
       "no_pos_off_line                       5591\n",
       "no_credit_cards                       5589\n",
       "no_credit_card_atm_txn                5592\n",
       "no_credit_card_pos_txn                5592\n",
       "no_credit_card_atm_txn_value_in_mn    5592\n",
       "no_credit_card_pos_txn_value_in_mn    5592\n",
       "no_debit_cards                        5592\n",
       "no_debit_card_atm_txn                 5592\n",
       "no_debit_card_pos_txn                 5592\n",
       "no_debit_card_atm_txn_value_in_mn     5592\n",
       "no_debit_card_pos_txn_value_in_mn     5592\n",
       "dtype: int64"
      ]
     },
     "execution_count": 5,
     "metadata": {},
     "output_type": "execute_result"
    }
   ],
   "source": [
    "#count all the values of columns\n",
    "data.count()"
   ]
  },
  {
   "cell_type": "code",
   "execution_count": 6,
   "id": "5595b338",
   "metadata": {},
   "outputs": [
    {
     "data": {
      "text/html": [
       "<div>\n",
       "<style scoped>\n",
       "    .dataframe tbody tr th:only-of-type {\n",
       "        vertical-align: middle;\n",
       "    }\n",
       "\n",
       "    .dataframe tbody tr th {\n",
       "        vertical-align: top;\n",
       "    }\n",
       "\n",
       "    .dataframe thead th {\n",
       "        text-align: right;\n",
       "    }\n",
       "</style>\n",
       "<table border=\"1\" class=\"dataframe\">\n",
       "  <thead>\n",
       "    <tr style=\"text-align: right;\">\n",
       "      <th></th>\n",
       "      <th>year</th>\n",
       "      <th>month_number</th>\n",
       "      <th>no_atms_on_site</th>\n",
       "      <th>no_atms_off_site</th>\n",
       "      <th>no_pos_on_line</th>\n",
       "      <th>no_pos_off_line</th>\n",
       "      <th>no_credit_cards</th>\n",
       "      <th>no_credit_card_atm_txn</th>\n",
       "      <th>no_credit_card_pos_txn</th>\n",
       "      <th>no_credit_card_atm_txn_value_in_mn</th>\n",
       "      <th>no_credit_card_pos_txn_value_in_mn</th>\n",
       "      <th>no_debit_cards</th>\n",
       "      <th>no_debit_card_atm_txn</th>\n",
       "      <th>no_debit_card_pos_txn</th>\n",
       "      <th>no_debit_card_atm_txn_value_in_mn</th>\n",
       "      <th>no_debit_card_pos_txn_value_in_mn</th>\n",
       "    </tr>\n",
       "  </thead>\n",
       "  <tbody>\n",
       "    <tr>\n",
       "      <th>count</th>\n",
       "      <td>5592.000000</td>\n",
       "      <td>5592.000000</td>\n",
       "      <td>5592.000000</td>\n",
       "      <td>5592.000000</td>\n",
       "      <td>5592.000000</td>\n",
       "      <td>5591.000000</td>\n",
       "      <td>5.589000e+03</td>\n",
       "      <td>5592.000000</td>\n",
       "      <td>5.592000e+03</td>\n",
       "      <td>5.592000e+03</td>\n",
       "      <td>5.592000e+03</td>\n",
       "      <td>5.592000e+03</td>\n",
       "      <td>5.592000e+03</td>\n",
       "      <td>5.592000e+03</td>\n",
       "      <td>5.592000e+03</td>\n",
       "      <td>5.592000e+03</td>\n",
       "    </tr>\n",
       "    <tr>\n",
       "      <th>mean</th>\n",
       "      <td>2015.076180</td>\n",
       "      <td>6.407904</td>\n",
       "      <td>1544.657189</td>\n",
       "      <td>1410.714950</td>\n",
       "      <td>30485.131795</td>\n",
       "      <td>115.280451</td>\n",
       "      <td>4.684503e+05</td>\n",
       "      <td>8157.823319</td>\n",
       "      <td>1.370919e+06</td>\n",
       "      <td>3.269451e+03</td>\n",
       "      <td>1.340955e+04</td>\n",
       "      <td>1.025377e+07</td>\n",
       "      <td>1.094952e+07</td>\n",
       "      <td>2.832687e+06</td>\n",
       "      <td>1.721422e+05</td>\n",
       "      <td>9.531962e+04</td>\n",
       "    </tr>\n",
       "    <tr>\n",
       "      <th>std</th>\n",
       "      <td>2.491967</td>\n",
       "      <td>3.365489</td>\n",
       "      <td>3068.094531</td>\n",
       "      <td>3663.979008</td>\n",
       "      <td>92411.773822</td>\n",
       "      <td>829.214340</td>\n",
       "      <td>1.390965e+06</td>\n",
       "      <td>23781.921459</td>\n",
       "      <td>4.562072e+06</td>\n",
       "      <td>9.775719e+04</td>\n",
       "      <td>2.452697e+05</td>\n",
       "      <td>2.760467e+07</td>\n",
       "      <td>3.727568e+07</td>\n",
       "      <td>9.257205e+06</td>\n",
       "      <td>3.036771e+06</td>\n",
       "      <td>2.474881e+06</td>\n",
       "    </tr>\n",
       "    <tr>\n",
       "      <th>min</th>\n",
       "      <td>2011.000000</td>\n",
       "      <td>1.000000</td>\n",
       "      <td>0.000000</td>\n",
       "      <td>0.000000</td>\n",
       "      <td>0.000000</td>\n",
       "      <td>0.000000</td>\n",
       "      <td>0.000000e+00</td>\n",
       "      <td>0.000000</td>\n",
       "      <td>0.000000e+00</td>\n",
       "      <td>0.000000e+00</td>\n",
       "      <td>0.000000e+00</td>\n",
       "      <td>0.000000e+00</td>\n",
       "      <td>0.000000e+00</td>\n",
       "      <td>0.000000e+00</td>\n",
       "      <td>0.000000e+00</td>\n",
       "      <td>0.000000e+00</td>\n",
       "    </tr>\n",
       "    <tr>\n",
       "      <th>25%</th>\n",
       "      <td>2013.000000</td>\n",
       "      <td>4.000000</td>\n",
       "      <td>168.000000</td>\n",
       "      <td>109.000000</td>\n",
       "      <td>0.000000</td>\n",
       "      <td>0.000000</td>\n",
       "      <td>0.000000e+00</td>\n",
       "      <td>0.000000</td>\n",
       "      <td>0.000000e+00</td>\n",
       "      <td>0.000000e+00</td>\n",
       "      <td>0.000000e+00</td>\n",
       "      <td>6.678825e+05</td>\n",
       "      <td>5.582972e+05</td>\n",
       "      <td>9.690100e+04</td>\n",
       "      <td>2.410859e+03</td>\n",
       "      <td>1.922382e+02</td>\n",
       "    </tr>\n",
       "    <tr>\n",
       "      <th>50%</th>\n",
       "      <td>2015.000000</td>\n",
       "      <td>6.000000</td>\n",
       "      <td>691.500000</td>\n",
       "      <td>401.000000</td>\n",
       "      <td>1769.000000</td>\n",
       "      <td>0.000000</td>\n",
       "      <td>5.496000e+03</td>\n",
       "      <td>18.000000</td>\n",
       "      <td>7.938500e+03</td>\n",
       "      <td>2.000000e-01</td>\n",
       "      <td>2.043485e+01</td>\n",
       "      <td>3.067924e+06</td>\n",
       "      <td>3.179442e+06</td>\n",
       "      <td>3.936775e+05</td>\n",
       "      <td>1.210020e+04</td>\n",
       "      <td>6.403500e+02</td>\n",
       "    </tr>\n",
       "    <tr>\n",
       "      <th>75%</th>\n",
       "      <td>2017.000000</td>\n",
       "      <td>9.000000</td>\n",
       "      <td>1686.000000</td>\n",
       "      <td>827.000000</td>\n",
       "      <td>10908.000000</td>\n",
       "      <td>0.000000</td>\n",
       "      <td>1.341290e+05</td>\n",
       "      <td>3942.750000</td>\n",
       "      <td>1.750998e+05</td>\n",
       "      <td>2.239340e+01</td>\n",
       "      <td>5.338192e+02</td>\n",
       "      <td>9.828595e+06</td>\n",
       "      <td>8.301565e+06</td>\n",
       "      <td>1.912702e+06</td>\n",
       "      <td>2.959704e+04</td>\n",
       "      <td>2.846007e+03</td>\n",
       "    </tr>\n",
       "    <tr>\n",
       "      <th>max</th>\n",
       "      <td>2019.000000</td>\n",
       "      <td>12.000000</td>\n",
       "      <td>31749.000000</td>\n",
       "      <td>33209.000000</td>\n",
       "      <td>988458.000000</td>\n",
       "      <td>13945.000000</td>\n",
       "      <td>1.313833e+07</td>\n",
       "      <td>202780.000000</td>\n",
       "      <td>4.801122e+07</td>\n",
       "      <td>5.649796e+06</td>\n",
       "      <td>1.367324e+07</td>\n",
       "      <td>3.260783e+08</td>\n",
       "      <td>4.579804e+08</td>\n",
       "      <td>1.214630e+08</td>\n",
       "      <td>1.944420e+08</td>\n",
       "      <td>1.690980e+08</td>\n",
       "    </tr>\n",
       "  </tbody>\n",
       "</table>\n",
       "</div>"
      ],
      "text/plain": [
       "              year  month_number  no_atms_on_site  no_atms_off_site  \\\n",
       "count  5592.000000   5592.000000      5592.000000       5592.000000   \n",
       "mean   2015.076180      6.407904      1544.657189       1410.714950   \n",
       "std       2.491967      3.365489      3068.094531       3663.979008   \n",
       "min    2011.000000      1.000000         0.000000          0.000000   \n",
       "25%    2013.000000      4.000000       168.000000        109.000000   \n",
       "50%    2015.000000      6.000000       691.500000        401.000000   \n",
       "75%    2017.000000      9.000000      1686.000000        827.000000   \n",
       "max    2019.000000     12.000000     31749.000000      33209.000000   \n",
       "\n",
       "       no_pos_on_line  no_pos_off_line  no_credit_cards  \\\n",
       "count     5592.000000      5591.000000     5.589000e+03   \n",
       "mean     30485.131795       115.280451     4.684503e+05   \n",
       "std      92411.773822       829.214340     1.390965e+06   \n",
       "min          0.000000         0.000000     0.000000e+00   \n",
       "25%          0.000000         0.000000     0.000000e+00   \n",
       "50%       1769.000000         0.000000     5.496000e+03   \n",
       "75%      10908.000000         0.000000     1.341290e+05   \n",
       "max     988458.000000     13945.000000     1.313833e+07   \n",
       "\n",
       "       no_credit_card_atm_txn  no_credit_card_pos_txn  \\\n",
       "count             5592.000000            5.592000e+03   \n",
       "mean              8157.823319            1.370919e+06   \n",
       "std              23781.921459            4.562072e+06   \n",
       "min                  0.000000            0.000000e+00   \n",
       "25%                  0.000000            0.000000e+00   \n",
       "50%                 18.000000            7.938500e+03   \n",
       "75%               3942.750000            1.750998e+05   \n",
       "max             202780.000000            4.801122e+07   \n",
       "\n",
       "       no_credit_card_atm_txn_value_in_mn  no_credit_card_pos_txn_value_in_mn  \\\n",
       "count                        5.592000e+03                        5.592000e+03   \n",
       "mean                         3.269451e+03                        1.340955e+04   \n",
       "std                          9.775719e+04                        2.452697e+05   \n",
       "min                          0.000000e+00                        0.000000e+00   \n",
       "25%                          0.000000e+00                        0.000000e+00   \n",
       "50%                          2.000000e-01                        2.043485e+01   \n",
       "75%                          2.239340e+01                        5.338192e+02   \n",
       "max                          5.649796e+06                        1.367324e+07   \n",
       "\n",
       "       no_debit_cards  no_debit_card_atm_txn  no_debit_card_pos_txn  \\\n",
       "count    5.592000e+03           5.592000e+03           5.592000e+03   \n",
       "mean     1.025377e+07           1.094952e+07           2.832687e+06   \n",
       "std      2.760467e+07           3.727568e+07           9.257205e+06   \n",
       "min      0.000000e+00           0.000000e+00           0.000000e+00   \n",
       "25%      6.678825e+05           5.582972e+05           9.690100e+04   \n",
       "50%      3.067924e+06           3.179442e+06           3.936775e+05   \n",
       "75%      9.828595e+06           8.301565e+06           1.912702e+06   \n",
       "max      3.260783e+08           4.579804e+08           1.214630e+08   \n",
       "\n",
       "       no_debit_card_atm_txn_value_in_mn  no_debit_card_pos_txn_value_in_mn  \n",
       "count                       5.592000e+03                       5.592000e+03  \n",
       "mean                        1.721422e+05                       9.531962e+04  \n",
       "std                         3.036771e+06                       2.474881e+06  \n",
       "min                         0.000000e+00                       0.000000e+00  \n",
       "25%                         2.410859e+03                       1.922382e+02  \n",
       "50%                         1.210020e+04                       6.403500e+02  \n",
       "75%                         2.959704e+04                       2.846007e+03  \n",
       "max                         1.944420e+08                       1.690980e+08  "
      ]
     },
     "execution_count": 6,
     "metadata": {},
     "output_type": "execute_result"
    }
   ],
   "source": [
    "#view all rows and columns\n",
    "data.describe()"
   ]
  },
  {
   "cell_type": "code",
   "execution_count": 7,
   "id": "694e1312",
   "metadata": {},
   "outputs": [
    {
     "data": {
      "text/plain": [
       "(5592, 20)"
      ]
     },
     "execution_count": 7,
     "metadata": {},
     "output_type": "execute_result"
    }
   ],
   "source": [
    "#rows and columns in the dataset\n",
    "data.shape\n"
   ]
  },
  {
   "cell_type": "code",
   "execution_count": 8,
   "id": "27893759",
   "metadata": {},
   "outputs": [
    {
     "data": {
      "text/plain": [
       "111840"
      ]
     },
     "execution_count": 8,
     "metadata": {},
     "output_type": "execute_result"
    }
   ],
   "source": [
    "#total elements in the dataset\n",
    "data.size"
   ]
  },
  {
   "cell_type": "code",
   "execution_count": 9,
   "id": "7806bb48",
   "metadata": {},
   "outputs": [
    {
     "data": {
      "text/plain": [
       "2"
      ]
     },
     "execution_count": 9,
     "metadata": {},
     "output_type": "execute_result"
    }
   ],
   "source": [
    "#dimension in the datat set\n",
    "data.ndim"
   ]
  },
  {
   "cell_type": "code",
   "execution_count": 10,
   "id": "04c96765",
   "metadata": {},
   "outputs": [
    {
     "name": "stdout",
     "output_type": "stream",
     "text": [
      "<class 'pandas.core.frame.DataFrame'>\n"
     ]
    }
   ],
   "source": [
    "#check data \n",
    "print(type(data))"
   ]
  },
  {
   "cell_type": "code",
   "execution_count": 11,
   "id": "30ffec92",
   "metadata": {},
   "outputs": [
    {
     "name": "stdout",
     "output_type": "stream",
     "text": [
      "<class 'pandas.core.series.Series'>\n"
     ]
    }
   ],
   "source": [
    "#check type of series\n",
    "year=data['year']\n",
    "print(type(year))\n"
   ]
  },
  {
   "cell_type": "code",
   "execution_count": 12,
   "id": "64e8e13b",
   "metadata": {},
   "outputs": [
    {
     "name": "stdout",
     "output_type": "stream",
     "text": [
      "<class 'pandas.core.series.Series'>\n"
     ]
    }
   ],
   "source": [
    "#check type of column\n",
    "month=data['month']\n",
    "print(type(month))\n"
   ]
  },
  {
   "cell_type": "code",
   "execution_count": 13,
   "id": "84032aec",
   "metadata": {},
   "outputs": [
    {
     "data": {
      "text/plain": [
       "2018    741\n",
       "2016    672\n",
       "2015    654\n",
       "2014    652\n",
       "2012    639\n",
       "2013    617\n",
       "2017    611\n",
       "2019    517\n",
       "2011    489\n",
       "Name: year, dtype: int64"
      ]
     },
     "execution_count": 13,
     "metadata": {},
     "output_type": "execute_result"
    }
   ],
   "source": [
    "#check repeated record for oarticular value\n",
    "data['year'].value_counts()"
   ]
  },
  {
   "cell_type": "code",
   "execution_count": 14,
   "id": "bc1527ec",
   "metadata": {},
   "outputs": [
    {
     "name": "stdout",
     "output_type": "stream",
     "text": [
      "0\n"
     ]
    }
   ],
   "source": [
    "print(data.no_atms_on_site.min())"
   ]
  },
  {
   "cell_type": "code",
   "execution_count": 15,
   "id": "b21281cd",
   "metadata": {},
   "outputs": [
    {
     "data": {
      "text/plain": [
       "Index(['month', 'year', 'month_number', 'start_date', 'end_date', 'bank_name',\n",
       "       'no_atms_on_site', 'no_atms_off_site', 'no_pos_on_line',\n",
       "       'no_pos_off_line', 'no_credit_cards', 'no_credit_card_atm_txn',\n",
       "       'no_credit_card_pos_txn', 'no_credit_card_atm_txn_value_in_mn',\n",
       "       'no_credit_card_pos_txn_value_in_mn', 'no_debit_cards',\n",
       "       'no_debit_card_atm_txn', 'no_debit_card_pos_txn',\n",
       "       'no_debit_card_atm_txn_value_in_mn',\n",
       "       'no_debit_card_pos_txn_value_in_mn'],\n",
       "      dtype='object')"
      ]
     },
     "execution_count": 15,
     "metadata": {},
     "output_type": "execute_result"
    }
   ],
   "source": [
    "#check total columns\n",
    "data.columns\n"
   ]
  },
  {
   "cell_type": "code",
   "execution_count": 16,
   "id": "70e6c0d6",
   "metadata": {
    "scrolled": true
   },
   "outputs": [
    {
     "data": {
      "text/plain": [
       "['month',\n",
       " 'year',\n",
       " 'month_number',\n",
       " 'start_date',\n",
       " 'end_date',\n",
       " 'bank_name',\n",
       " 'no_atms_on_site',\n",
       " 'no_atms_off_site',\n",
       " 'no_pos_on_line',\n",
       " 'no_pos_off_line',\n",
       " 'no_credit_cards',\n",
       " 'no_credit_card_atm_txn',\n",
       " 'no_credit_card_pos_txn',\n",
       " 'no_credit_card_atm_txn_value_in_mn',\n",
       " 'no_credit_card_pos_txn_value_in_mn',\n",
       " 'no_debit_cards',\n",
       " 'no_debit_card_atm_txn',\n",
       " 'no_debit_card_pos_txn',\n",
       " 'no_debit_card_atm_txn_value_in_mn',\n",
       " 'no_debit_card_pos_txn_value_in_mn']"
      ]
     },
     "execution_count": 16,
     "metadata": {},
     "output_type": "execute_result"
    }
   ],
   "source": [
    "#printing columns in list\n",
    "data.columns.tolist()"
   ]
  },
  {
   "cell_type": "code",
   "execution_count": 17,
   "id": "16d19af2",
   "metadata": {},
   "outputs": [
    {
     "data": {
      "text/plain": [
       "'bank_name'"
      ]
     },
     "execution_count": 17,
     "metadata": {},
     "output_type": "execute_result"
    }
   ],
   "source": [
    "#indexing\n",
    "a=data.columns.tolist()\n",
    "\n",
    "a[5]"
   ]
  },
  {
   "cell_type": "code",
   "execution_count": 18,
   "id": "cd04bb40",
   "metadata": {},
   "outputs": [
    {
     "data": {
      "text/plain": [
       "'no_atms_on_site'"
      ]
     },
     "execution_count": 18,
     "metadata": {},
     "output_type": "execute_result"
    }
   ],
   "source": [
    "a[6]"
   ]
  },
  {
   "cell_type": "code",
   "execution_count": 19,
   "id": "b9d7c8ea",
   "metadata": {},
   "outputs": [
    {
     "data": {
      "text/plain": [
       "'year'"
      ]
     },
     "execution_count": 19,
     "metadata": {},
     "output_type": "execute_result"
    }
   ],
   "source": [
    "a[1]"
   ]
  },
  {
   "cell_type": "code",
   "execution_count": 20,
   "id": "11e0ff0b",
   "metadata": {},
   "outputs": [
    {
     "name": "stdout",
     "output_type": "stream",
     "text": [
      "no_atms_on_site\n",
      "max 31749\n",
      "min 0\n",
      "median 691.5\n"
     ]
    }
   ],
   "source": [
    "# max value in the colummn no_atms_on_site)\n",
    "print('no_atms_on_site')\n",
    "print(\"max\",data.no_atms_on_site.max())\n",
    "print(\"min\",data.no_atms_on_site.min())\n",
    "print(\"median\",data.no_atms_on_site.median())"
   ]
  },
  {
   "cell_type": "code",
   "execution_count": 21,
   "id": "d576a844",
   "metadata": {},
   "outputs": [
    {
     "name": "stdout",
     "output_type": "stream",
     "text": [
      "no_atms_off_site\n",
      "max 33209\n",
      "min 0\n",
      "median 401.0\n"
     ]
    }
   ],
   "source": [
    "print('no_atms_off_site')\n",
    "print(\"max\",data.no_atms_off_site.max())\n",
    "print(\"min\",data.no_atms_off_site.min())\n",
    "print(\"median\",data.no_atms_off_site.median())"
   ]
  },
  {
   "cell_type": "code",
   "execution_count": 22,
   "id": "311097c2",
   "metadata": {},
   "outputs": [
    {
     "name": "stdout",
     "output_type": "stream",
     "text": [
      "no_pos_on_line\n",
      "max 988458\n",
      "min 0\n",
      "median 1769.0\n"
     ]
    }
   ],
   "source": [
    "print('no_pos_on_line')\n",
    "print(\"max\",data.no_pos_on_line.max())\n",
    "print(\"min\",data.no_pos_on_line.min())\n",
    "print(\"median\",data.no_pos_on_line.median())"
   ]
  },
  {
   "cell_type": "code",
   "execution_count": 23,
   "id": "865e8ac0",
   "metadata": {},
   "outputs": [
    {
     "name": "stdout",
     "output_type": "stream",
     "text": [
      "no_pos_off_line\n",
      "max 13945.0\n",
      "min 0.0\n",
      "median 0.0\n"
     ]
    }
   ],
   "source": [
    "print('no_pos_off_line')\n",
    "print(\"max\",data.no_pos_off_line.max())\n",
    "print(\"min\",data.no_pos_off_line.min())\n",
    "print(\"median\",data.no_pos_off_line.median()) "
   ]
  },
  {
   "cell_type": "code",
   "execution_count": 24,
   "id": "feda05bf",
   "metadata": {},
   "outputs": [
    {
     "name": "stdout",
     "output_type": "stream",
     "text": [
      "no_credit_card_atm_txn\n",
      "max 202780\n",
      "min 0\n",
      "median 18.0\n"
     ]
    }
   ],
   "source": [
    "print('no_credit_card_atm_txn')\n",
    "print(\"max\",data.no_credit_card_atm_txn.max())\n",
    "print(\"min\",data.no_credit_card_atm_txn.min())\n",
    "print(\"median\",data.no_credit_card_atm_txn.median())"
   ]
  },
  {
   "cell_type": "code",
   "execution_count": 25,
   "id": "2ae40e23",
   "metadata": {},
   "outputs": [
    {
     "name": "stdout",
     "output_type": "stream",
     "text": [
      "no_credit_cards\n",
      "max 13138330.0\n",
      "min 0.0\n",
      "median 5496.0\n"
     ]
    }
   ],
   "source": [
    "print('no_credit_cards')\n",
    "print(\"max\",data.no_credit_cards.max())\n",
    "print(\"min\",data.no_credit_cards.min())\n",
    "print(\"median\",data.no_credit_cards.median())"
   ]
  },
  {
   "cell_type": "code",
   "execution_count": 26,
   "id": "41619296",
   "metadata": {},
   "outputs": [
    {
     "name": "stdout",
     "output_type": "stream",
     "text": [
      "no_credit_card_pos_txn\n",
      "max 48011222\n",
      "min 0\n",
      "median 7938.5\n"
     ]
    }
   ],
   "source": [
    "print('no_credit_card_pos_txn')\n",
    "print(\"max\",data.no_credit_card_pos_txn\n",
    ".max())\n",
    "print(\"min\",data.no_credit_card_pos_txn.min())\n",
    "print(\"median\",data.no_credit_card_pos_txn.median())"
   ]
  },
  {
   "cell_type": "code",
   "execution_count": 27,
   "id": "99952bfd",
   "metadata": {},
   "outputs": [
    {
     "name": "stdout",
     "output_type": "stream",
     "text": [
      "no_credit_card_atm_txn_value_in_mn\n",
      "max 5649796.0\n",
      "min 0.0\n",
      "median 0.2\n"
     ]
    }
   ],
   "source": [
    "print('no_credit_card_atm_txn_value_in_mn')\n",
    "print(\"max\",data.no_credit_card_atm_txn_value_in_mn\n",
    "\n",
    ".max())\n",
    "print(\"min\",data.no_credit_card_atm_txn_value_in_mn\n",
    ".min())\n",
    "print(\"median\",data.no_credit_card_atm_txn_value_in_mn\n",
    ".median())"
   ]
  },
  {
   "cell_type": "code",
   "execution_count": 28,
   "id": "cde2893d",
   "metadata": {},
   "outputs": [
    {
     "name": "stdout",
     "output_type": "stream",
     "text": [
      "no_credit_card_pos_txn_value_in_mn\n",
      "max 13673238.0\n",
      "min 0.0\n",
      "median 20.434849999999997\n"
     ]
    }
   ],
   "source": [
    "print('no_credit_card_pos_txn_value_in_mn')\n",
    "print(\"max\",data.no_credit_card_pos_txn_value_in_mn\n",
    "\n",
    ".max())\n",
    "print(\"min\",data.no_credit_card_pos_txn_value_in_mn\n",
    ".min())\n",
    "print(\"median\",data.no_credit_card_pos_txn_value_in_mn\n",
    ".median())"
   ]
  },
  {
   "cell_type": "code",
   "execution_count": 29,
   "id": "fce8ae7d",
   "metadata": {},
   "outputs": [
    {
     "name": "stdout",
     "output_type": "stream",
     "text": [
      "no_debit_cards\n",
      "max 326078311.0\n",
      "min 0.0\n",
      "median 3067924.0\n"
     ]
    }
   ],
   "source": [
    "print('no_debit_cards')\n",
    "print(\"max\",data.no_debit_cards.max())\n",
    "print(\"min\",data.no_debit_cards.min())\n",
    "print(\"median\",data.no_debit_cards.median())"
   ]
  },
  {
   "cell_type": "code",
   "execution_count": 30,
   "id": "ca7dfb3c",
   "metadata": {},
   "outputs": [
    {
     "name": "stdout",
     "output_type": "stream",
     "text": [
      "no_debit_card_atm_txn\n",
      "max 457980402.0\n",
      "min 0.0\n",
      "median 3179442.0\n"
     ]
    }
   ],
   "source": [
    "print('no_debit_card_atm_txn')\n",
    "print(\"max\",data.no_debit_card_atm_txn.max())\n",
    "print(\"min\",data.no_debit_card_atm_txn.min())\n",
    "print(\"median\",data.no_debit_card_atm_txn.median())"
   ]
  },
  {
   "cell_type": "code",
   "execution_count": 31,
   "id": "c0063c2c",
   "metadata": {},
   "outputs": [
    {
     "name": "stdout",
     "output_type": "stream",
     "text": [
      "no_debit_card_pos_txn\n",
      "max 121463000.0\n",
      "min 0.0\n",
      "median 393677.5\n"
     ]
    }
   ],
   "source": [
    "print('no_debit_card_pos_txn')\n",
    "print(\"max\",data.no_debit_card_pos_txn.max())\n",
    "print(\"min\",data.no_debit_card_pos_txn.min())\n",
    "print(\"median\",data.no_debit_card_pos_txn.median())"
   ]
  },
  {
   "cell_type": "code",
   "execution_count": 32,
   "id": "d753e601",
   "metadata": {},
   "outputs": [
    {
     "name": "stdout",
     "output_type": "stream",
     "text": [
      "no_debit_card_atm_txn_value_in_mn\n",
      "max 194442000.0\n",
      "min 0.0\n",
      "median 12100.2\n"
     ]
    }
   ],
   "source": [
    "print('no_debit_card_atm_txn_value_in_mn')\n",
    "print(\"max\",data.no_debit_card_atm_txn_value_in_mn.max())\n",
    "print(\"min\",data.no_debit_card_atm_txn_value_in_mn.min())\n",
    "print(\"median\",data.no_debit_card_atm_txn_value_in_mn.median())"
   ]
  },
  {
   "cell_type": "code",
   "execution_count": 33,
   "id": "4cdfd2ce",
   "metadata": {},
   "outputs": [
    {
     "name": "stdout",
     "output_type": "stream",
     "text": [
      "no_debit_card_pos_txn_value_in_mn\n",
      "max 169098000.0\n",
      "min 0.0\n",
      "median 640.3499999999999\n"
     ]
    }
   ],
   "source": [
    "print('no_debit_card_pos_txn_value_in_mn')\n",
    "print(\"max\",data.no_debit_card_pos_txn_value_in_mn.max())\n",
    "print(\"min\",data.no_debit_card_pos_txn_value_in_mn.min())\n",
    "print(\"median\",data.no_debit_card_pos_txn_value_in_mn.median())"
   ]
  },
  {
   "cell_type": "code",
   "execution_count": 34,
   "id": "67640b6a",
   "metadata": {},
   "outputs": [
    {
     "data": {
      "text/plain": [
       "1507"
      ]
     },
     "execution_count": 34,
     "metadata": {},
     "output_type": "execute_result"
    }
   ],
   "source": [
    "#checking maxvalue for particular column\n",
    "data['no_atms_on_site'].argmax()"
   ]
  },
  {
   "cell_type": "code",
   "execution_count": 35,
   "id": "420cbb03",
   "metadata": {},
   "outputs": [
    {
     "data": {
      "text/html": [
       "<div>\n",
       "<style scoped>\n",
       "    .dataframe tbody tr th:only-of-type {\n",
       "        vertical-align: middle;\n",
       "    }\n",
       "\n",
       "    .dataframe tbody tr th {\n",
       "        vertical-align: top;\n",
       "    }\n",
       "\n",
       "    .dataframe thead th {\n",
       "        text-align: right;\n",
       "    }\n",
       "</style>\n",
       "<table border=\"1\" class=\"dataframe\">\n",
       "  <thead>\n",
       "    <tr style=\"text-align: right;\">\n",
       "      <th></th>\n",
       "      <th>month</th>\n",
       "      <th>year</th>\n",
       "      <th>month_number</th>\n",
       "      <th>start_date</th>\n",
       "      <th>end_date</th>\n",
       "      <th>bank_name</th>\n",
       "      <th>no_atms_on_site</th>\n",
       "      <th>no_atms_off_site</th>\n",
       "      <th>no_pos_on_line</th>\n",
       "      <th>no_pos_off_line</th>\n",
       "      <th>no_credit_cards</th>\n",
       "      <th>no_credit_card_atm_txn</th>\n",
       "      <th>no_credit_card_pos_txn</th>\n",
       "      <th>no_credit_card_atm_txn_value_in_mn</th>\n",
       "      <th>no_credit_card_pos_txn_value_in_mn</th>\n",
       "      <th>no_debit_cards</th>\n",
       "      <th>no_debit_card_atm_txn</th>\n",
       "      <th>no_debit_card_pos_txn</th>\n",
       "      <th>no_debit_card_atm_txn_value_in_mn</th>\n",
       "      <th>no_debit_card_pos_txn_value_in_mn</th>\n",
       "    </tr>\n",
       "  </thead>\n",
       "  <tbody>\n",
       "    <tr>\n",
       "      <th>0</th>\n",
       "      <td>False</td>\n",
       "      <td>False</td>\n",
       "      <td>False</td>\n",
       "      <td>False</td>\n",
       "      <td>False</td>\n",
       "      <td>False</td>\n",
       "      <td>False</td>\n",
       "      <td>False</td>\n",
       "      <td>False</td>\n",
       "      <td>False</td>\n",
       "      <td>False</td>\n",
       "      <td>False</td>\n",
       "      <td>False</td>\n",
       "      <td>False</td>\n",
       "      <td>False</td>\n",
       "      <td>False</td>\n",
       "      <td>False</td>\n",
       "      <td>False</td>\n",
       "      <td>False</td>\n",
       "      <td>False</td>\n",
       "    </tr>\n",
       "    <tr>\n",
       "      <th>1</th>\n",
       "      <td>False</td>\n",
       "      <td>False</td>\n",
       "      <td>False</td>\n",
       "      <td>False</td>\n",
       "      <td>False</td>\n",
       "      <td>False</td>\n",
       "      <td>False</td>\n",
       "      <td>False</td>\n",
       "      <td>False</td>\n",
       "      <td>False</td>\n",
       "      <td>False</td>\n",
       "      <td>False</td>\n",
       "      <td>False</td>\n",
       "      <td>False</td>\n",
       "      <td>False</td>\n",
       "      <td>False</td>\n",
       "      <td>False</td>\n",
       "      <td>False</td>\n",
       "      <td>False</td>\n",
       "      <td>False</td>\n",
       "    </tr>\n",
       "    <tr>\n",
       "      <th>2</th>\n",
       "      <td>False</td>\n",
       "      <td>False</td>\n",
       "      <td>False</td>\n",
       "      <td>False</td>\n",
       "      <td>False</td>\n",
       "      <td>False</td>\n",
       "      <td>False</td>\n",
       "      <td>False</td>\n",
       "      <td>False</td>\n",
       "      <td>False</td>\n",
       "      <td>False</td>\n",
       "      <td>False</td>\n",
       "      <td>False</td>\n",
       "      <td>False</td>\n",
       "      <td>False</td>\n",
       "      <td>False</td>\n",
       "      <td>False</td>\n",
       "      <td>False</td>\n",
       "      <td>False</td>\n",
       "      <td>False</td>\n",
       "    </tr>\n",
       "    <tr>\n",
       "      <th>3</th>\n",
       "      <td>False</td>\n",
       "      <td>False</td>\n",
       "      <td>False</td>\n",
       "      <td>False</td>\n",
       "      <td>False</td>\n",
       "      <td>False</td>\n",
       "      <td>False</td>\n",
       "      <td>False</td>\n",
       "      <td>False</td>\n",
       "      <td>False</td>\n",
       "      <td>False</td>\n",
       "      <td>False</td>\n",
       "      <td>False</td>\n",
       "      <td>False</td>\n",
       "      <td>False</td>\n",
       "      <td>False</td>\n",
       "      <td>False</td>\n",
       "      <td>False</td>\n",
       "      <td>False</td>\n",
       "      <td>False</td>\n",
       "    </tr>\n",
       "    <tr>\n",
       "      <th>4</th>\n",
       "      <td>False</td>\n",
       "      <td>False</td>\n",
       "      <td>False</td>\n",
       "      <td>False</td>\n",
       "      <td>False</td>\n",
       "      <td>False</td>\n",
       "      <td>False</td>\n",
       "      <td>False</td>\n",
       "      <td>False</td>\n",
       "      <td>False</td>\n",
       "      <td>False</td>\n",
       "      <td>False</td>\n",
       "      <td>False</td>\n",
       "      <td>False</td>\n",
       "      <td>False</td>\n",
       "      <td>False</td>\n",
       "      <td>False</td>\n",
       "      <td>False</td>\n",
       "      <td>False</td>\n",
       "      <td>False</td>\n",
       "    </tr>\n",
       "    <tr>\n",
       "      <th>...</th>\n",
       "      <td>...</td>\n",
       "      <td>...</td>\n",
       "      <td>...</td>\n",
       "      <td>...</td>\n",
       "      <td>...</td>\n",
       "      <td>...</td>\n",
       "      <td>...</td>\n",
       "      <td>...</td>\n",
       "      <td>...</td>\n",
       "      <td>...</td>\n",
       "      <td>...</td>\n",
       "      <td>...</td>\n",
       "      <td>...</td>\n",
       "      <td>...</td>\n",
       "      <td>...</td>\n",
       "      <td>...</td>\n",
       "      <td>...</td>\n",
       "      <td>...</td>\n",
       "      <td>...</td>\n",
       "      <td>...</td>\n",
       "    </tr>\n",
       "    <tr>\n",
       "      <th>5587</th>\n",
       "      <td>False</td>\n",
       "      <td>False</td>\n",
       "      <td>False</td>\n",
       "      <td>False</td>\n",
       "      <td>False</td>\n",
       "      <td>False</td>\n",
       "      <td>False</td>\n",
       "      <td>False</td>\n",
       "      <td>False</td>\n",
       "      <td>False</td>\n",
       "      <td>False</td>\n",
       "      <td>False</td>\n",
       "      <td>False</td>\n",
       "      <td>False</td>\n",
       "      <td>False</td>\n",
       "      <td>False</td>\n",
       "      <td>False</td>\n",
       "      <td>False</td>\n",
       "      <td>False</td>\n",
       "      <td>False</td>\n",
       "    </tr>\n",
       "    <tr>\n",
       "      <th>5588</th>\n",
       "      <td>False</td>\n",
       "      <td>False</td>\n",
       "      <td>False</td>\n",
       "      <td>False</td>\n",
       "      <td>False</td>\n",
       "      <td>False</td>\n",
       "      <td>False</td>\n",
       "      <td>False</td>\n",
       "      <td>False</td>\n",
       "      <td>False</td>\n",
       "      <td>False</td>\n",
       "      <td>False</td>\n",
       "      <td>False</td>\n",
       "      <td>False</td>\n",
       "      <td>False</td>\n",
       "      <td>False</td>\n",
       "      <td>False</td>\n",
       "      <td>False</td>\n",
       "      <td>False</td>\n",
       "      <td>False</td>\n",
       "    </tr>\n",
       "    <tr>\n",
       "      <th>5589</th>\n",
       "      <td>False</td>\n",
       "      <td>False</td>\n",
       "      <td>False</td>\n",
       "      <td>False</td>\n",
       "      <td>False</td>\n",
       "      <td>False</td>\n",
       "      <td>False</td>\n",
       "      <td>False</td>\n",
       "      <td>False</td>\n",
       "      <td>False</td>\n",
       "      <td>False</td>\n",
       "      <td>False</td>\n",
       "      <td>False</td>\n",
       "      <td>False</td>\n",
       "      <td>False</td>\n",
       "      <td>False</td>\n",
       "      <td>False</td>\n",
       "      <td>False</td>\n",
       "      <td>False</td>\n",
       "      <td>False</td>\n",
       "    </tr>\n",
       "    <tr>\n",
       "      <th>5590</th>\n",
       "      <td>False</td>\n",
       "      <td>False</td>\n",
       "      <td>False</td>\n",
       "      <td>False</td>\n",
       "      <td>False</td>\n",
       "      <td>False</td>\n",
       "      <td>False</td>\n",
       "      <td>False</td>\n",
       "      <td>False</td>\n",
       "      <td>False</td>\n",
       "      <td>False</td>\n",
       "      <td>False</td>\n",
       "      <td>False</td>\n",
       "      <td>False</td>\n",
       "      <td>False</td>\n",
       "      <td>False</td>\n",
       "      <td>False</td>\n",
       "      <td>False</td>\n",
       "      <td>False</td>\n",
       "      <td>False</td>\n",
       "    </tr>\n",
       "    <tr>\n",
       "      <th>5591</th>\n",
       "      <td>False</td>\n",
       "      <td>False</td>\n",
       "      <td>False</td>\n",
       "      <td>False</td>\n",
       "      <td>False</td>\n",
       "      <td>False</td>\n",
       "      <td>False</td>\n",
       "      <td>False</td>\n",
       "      <td>False</td>\n",
       "      <td>False</td>\n",
       "      <td>False</td>\n",
       "      <td>False</td>\n",
       "      <td>False</td>\n",
       "      <td>False</td>\n",
       "      <td>False</td>\n",
       "      <td>False</td>\n",
       "      <td>False</td>\n",
       "      <td>False</td>\n",
       "      <td>False</td>\n",
       "      <td>False</td>\n",
       "    </tr>\n",
       "  </tbody>\n",
       "</table>\n",
       "<p>5592 rows × 20 columns</p>\n",
       "</div>"
      ],
      "text/plain": [
       "      month   year  month_number  start_date  end_date  bank_name  \\\n",
       "0     False  False         False       False     False      False   \n",
       "1     False  False         False       False     False      False   \n",
       "2     False  False         False       False     False      False   \n",
       "3     False  False         False       False     False      False   \n",
       "4     False  False         False       False     False      False   \n",
       "...     ...    ...           ...         ...       ...        ...   \n",
       "5587  False  False         False       False     False      False   \n",
       "5588  False  False         False       False     False      False   \n",
       "5589  False  False         False       False     False      False   \n",
       "5590  False  False         False       False     False      False   \n",
       "5591  False  False         False       False     False      False   \n",
       "\n",
       "      no_atms_on_site  no_atms_off_site  no_pos_on_line  no_pos_off_line  \\\n",
       "0               False             False           False            False   \n",
       "1               False             False           False            False   \n",
       "2               False             False           False            False   \n",
       "3               False             False           False            False   \n",
       "4               False             False           False            False   \n",
       "...               ...               ...             ...              ...   \n",
       "5587            False             False           False            False   \n",
       "5588            False             False           False            False   \n",
       "5589            False             False           False            False   \n",
       "5590            False             False           False            False   \n",
       "5591            False             False           False            False   \n",
       "\n",
       "      no_credit_cards  no_credit_card_atm_txn  no_credit_card_pos_txn  \\\n",
       "0               False                   False                   False   \n",
       "1               False                   False                   False   \n",
       "2               False                   False                   False   \n",
       "3               False                   False                   False   \n",
       "4               False                   False                   False   \n",
       "...               ...                     ...                     ...   \n",
       "5587            False                   False                   False   \n",
       "5588            False                   False                   False   \n",
       "5589            False                   False                   False   \n",
       "5590            False                   False                   False   \n",
       "5591            False                   False                   False   \n",
       "\n",
       "      no_credit_card_atm_txn_value_in_mn  no_credit_card_pos_txn_value_in_mn  \\\n",
       "0                                  False                               False   \n",
       "1                                  False                               False   \n",
       "2                                  False                               False   \n",
       "3                                  False                               False   \n",
       "4                                  False                               False   \n",
       "...                                  ...                                 ...   \n",
       "5587                               False                               False   \n",
       "5588                               False                               False   \n",
       "5589                               False                               False   \n",
       "5590                               False                               False   \n",
       "5591                               False                               False   \n",
       "\n",
       "      no_debit_cards  no_debit_card_atm_txn  no_debit_card_pos_txn  \\\n",
       "0              False                  False                  False   \n",
       "1              False                  False                  False   \n",
       "2              False                  False                  False   \n",
       "3              False                  False                  False   \n",
       "4              False                  False                  False   \n",
       "...              ...                    ...                    ...   \n",
       "5587           False                  False                  False   \n",
       "5588           False                  False                  False   \n",
       "5589           False                  False                  False   \n",
       "5590           False                  False                  False   \n",
       "5591           False                  False                  False   \n",
       "\n",
       "      no_debit_card_atm_txn_value_in_mn  no_debit_card_pos_txn_value_in_mn  \n",
       "0                                 False                              False  \n",
       "1                                 False                              False  \n",
       "2                                 False                              False  \n",
       "3                                 False                              False  \n",
       "4                                 False                              False  \n",
       "...                                 ...                                ...  \n",
       "5587                              False                              False  \n",
       "5588                              False                              False  \n",
       "5589                              False                              False  \n",
       "5590                              False                              False  \n",
       "5591                              False                              False  \n",
       "\n",
       "[5592 rows x 20 columns]"
      ]
     },
     "execution_count": 35,
     "metadata": {},
     "output_type": "execute_result"
    }
   ],
   "source": [
    "data.isnull()\n"
   ]
  },
  {
   "cell_type": "code",
   "execution_count": 36,
   "id": "c26159b1",
   "metadata": {},
   "outputs": [
    {
     "data": {
      "text/plain": [
       "month                                 0\n",
       "year                                  0\n",
       "month_number                          0\n",
       "start_date                            0\n",
       "end_date                              0\n",
       "bank_name                             0\n",
       "no_atms_on_site                       0\n",
       "no_atms_off_site                      0\n",
       "no_pos_on_line                        0\n",
       "no_pos_off_line                       1\n",
       "no_credit_cards                       3\n",
       "no_credit_card_atm_txn                0\n",
       "no_credit_card_pos_txn                0\n",
       "no_credit_card_atm_txn_value_in_mn    0\n",
       "no_credit_card_pos_txn_value_in_mn    0\n",
       "no_debit_cards                        0\n",
       "no_debit_card_atm_txn                 0\n",
       "no_debit_card_pos_txn                 0\n",
       "no_debit_card_atm_txn_value_in_mn     0\n",
       "no_debit_card_pos_txn_value_in_mn     0\n",
       "dtype: int64"
      ]
     },
     "execution_count": 36,
     "metadata": {},
     "output_type": "execute_result"
    }
   ],
   "source": [
    "data.isnull().sum()"
   ]
  },
  {
   "cell_type": "code",
   "execution_count": 37,
   "id": "8b468280",
   "metadata": {},
   "outputs": [
    {
     "data": {
      "text/plain": [
       "month                                    November\n",
       "year                                         2011\n",
       "month_number                                   11\n",
       "start_date                             01/11/2011\n",
       "end_date                               30/11/2011\n",
       "bank_name                             Andhra Bank\n",
       "no_atms_on_site                               479\n",
       "no_atms_off_site                              554\n",
       "no_pos_on_line                               2122\n",
       "no_pos_off_line                               0.0\n",
       "no_credit_cards                          121514.0\n",
       "no_credit_card_atm_txn                       3243\n",
       "no_credit_card_pos_txn                      92370\n",
       "no_credit_card_atm_txn_value_in_mn           28.5\n",
       "no_credit_card_pos_txn_value_in_mn          234.7\n",
       "no_debit_cards                          6698887.0\n",
       "no_debit_card_atm_txn                   6871864.0\n",
       "no_debit_card_pos_txn                    325458.0\n",
       "no_debit_card_atm_txn_value_in_mn         17775.4\n",
       "no_debit_card_pos_txn_value_in_mn           451.1\n",
       "Name: 1, dtype: object"
      ]
     },
     "execution_count": 37,
     "metadata": {},
     "output_type": "execute_result"
    }
   ],
   "source": [
    "#printing data from location 1\n",
    "data.loc[1]"
   ]
  },
  {
   "cell_type": "code",
   "execution_count": 38,
   "id": "562919e4",
   "metadata": {},
   "outputs": [
    {
     "data": {
      "text/plain": [
       "month                                       November\n",
       "year                                            2011\n",
       "month_number                                      11\n",
       "start_date                                01/11/2011\n",
       "end_date                                  30/11/2011\n",
       "bank_name                             Bank of Baroda\n",
       "no_atms_on_site                                 1242\n",
       "no_atms_off_site                                 580\n",
       "no_pos_on_line                                  4332\n",
       "no_pos_off_line                                  0.0\n",
       "no_credit_cards                              70776.0\n",
       "no_credit_card_atm_txn                          2046\n",
       "no_credit_card_pos_txn                         72198\n",
       "no_credit_card_atm_txn_value_in_mn               1.5\n",
       "no_credit_card_pos_txn_value_in_mn             190.4\n",
       "no_debit_cards                             7307099.0\n",
       "no_debit_card_atm_txn                      6715369.0\n",
       "no_debit_card_pos_txn                       462172.0\n",
       "no_debit_card_atm_txn_value_in_mn            25166.7\n",
       "no_debit_card_pos_txn_value_in_mn              695.3\n",
       "Name: 2, dtype: object"
      ]
     },
     "execution_count": 38,
     "metadata": {},
     "output_type": "execute_result"
    }
   ],
   "source": [
    "#printing data from location 2\n",
    "data.loc[2]"
   ]
  },
  {
   "cell_type": "code",
   "execution_count": 39,
   "id": "88924969",
   "metadata": {},
   "outputs": [
    {
     "data": {
      "text/html": [
       "<div>\n",
       "<style scoped>\n",
       "    .dataframe tbody tr th:only-of-type {\n",
       "        vertical-align: middle;\n",
       "    }\n",
       "\n",
       "    .dataframe tbody tr th {\n",
       "        vertical-align: top;\n",
       "    }\n",
       "\n",
       "    .dataframe thead th {\n",
       "        text-align: right;\n",
       "    }\n",
       "</style>\n",
       "<table border=\"1\" class=\"dataframe\">\n",
       "  <thead>\n",
       "    <tr style=\"text-align: right;\">\n",
       "      <th></th>\n",
       "      <th>month</th>\n",
       "      <th>year</th>\n",
       "      <th>month_number</th>\n",
       "      <th>start_date</th>\n",
       "      <th>end_date</th>\n",
       "      <th>bank_name</th>\n",
       "      <th>no_atms_on_site</th>\n",
       "      <th>no_atms_off_site</th>\n",
       "      <th>no_pos_on_line</th>\n",
       "      <th>no_pos_off_line</th>\n",
       "      <th>no_credit_cards</th>\n",
       "      <th>no_credit_card_atm_txn</th>\n",
       "      <th>no_credit_card_pos_txn</th>\n",
       "      <th>no_credit_card_atm_txn_value_in_mn</th>\n",
       "      <th>no_credit_card_pos_txn_value_in_mn</th>\n",
       "      <th>no_debit_cards</th>\n",
       "      <th>no_debit_card_atm_txn</th>\n",
       "      <th>no_debit_card_pos_txn</th>\n",
       "      <th>no_debit_card_atm_txn_value_in_mn</th>\n",
       "      <th>no_debit_card_pos_txn_value_in_mn</th>\n",
       "    </tr>\n",
       "  </thead>\n",
       "  <tbody>\n",
       "    <tr>\n",
       "      <th>0</th>\n",
       "      <td>November</td>\n",
       "      <td>2011</td>\n",
       "      <td>11</td>\n",
       "      <td>01/11/2011</td>\n",
       "      <td>30/11/2011</td>\n",
       "      <td>Allahabad Bank</td>\n",
       "      <td>207</td>\n",
       "      <td>109</td>\n",
       "      <td>0</td>\n",
       "      <td>0.0</td>\n",
       "      <td>0.0</td>\n",
       "      <td>0</td>\n",
       "      <td>0</td>\n",
       "      <td>0.0</td>\n",
       "      <td>0.0</td>\n",
       "      <td>1190454.0</td>\n",
       "      <td>540824.0</td>\n",
       "      <td>54356.0</td>\n",
       "      <td>1200.00</td>\n",
       "      <td>102.500</td>\n",
       "    </tr>\n",
       "    <tr>\n",
       "      <th>1</th>\n",
       "      <td>November</td>\n",
       "      <td>2011</td>\n",
       "      <td>11</td>\n",
       "      <td>01/11/2011</td>\n",
       "      <td>30/11/2011</td>\n",
       "      <td>Andhra Bank</td>\n",
       "      <td>479</td>\n",
       "      <td>554</td>\n",
       "      <td>2122</td>\n",
       "      <td>0.0</td>\n",
       "      <td>121514.0</td>\n",
       "      <td>3243</td>\n",
       "      <td>92370</td>\n",
       "      <td>28.5</td>\n",
       "      <td>234.7</td>\n",
       "      <td>6698887.0</td>\n",
       "      <td>6871864.0</td>\n",
       "      <td>325458.0</td>\n",
       "      <td>17775.40</td>\n",
       "      <td>451.100</td>\n",
       "    </tr>\n",
       "    <tr>\n",
       "      <th>2</th>\n",
       "      <td>November</td>\n",
       "      <td>2011</td>\n",
       "      <td>11</td>\n",
       "      <td>01/11/2011</td>\n",
       "      <td>30/11/2011</td>\n",
       "      <td>Bank of Baroda</td>\n",
       "      <td>1242</td>\n",
       "      <td>580</td>\n",
       "      <td>4332</td>\n",
       "      <td>0.0</td>\n",
       "      <td>70776.0</td>\n",
       "      <td>2046</td>\n",
       "      <td>72198</td>\n",
       "      <td>1.5</td>\n",
       "      <td>190.4</td>\n",
       "      <td>7307099.0</td>\n",
       "      <td>6715369.0</td>\n",
       "      <td>462172.0</td>\n",
       "      <td>25166.70</td>\n",
       "      <td>695.300</td>\n",
       "    </tr>\n",
       "    <tr>\n",
       "      <th>3</th>\n",
       "      <td>November</td>\n",
       "      <td>2011</td>\n",
       "      <td>11</td>\n",
       "      <td>01/11/2011</td>\n",
       "      <td>30/11/2011</td>\n",
       "      <td>Bank of India</td>\n",
       "      <td>838</td>\n",
       "      <td>792</td>\n",
       "      <td>1930</td>\n",
       "      <td>501.0</td>\n",
       "      <td>119248.0</td>\n",
       "      <td>7824</td>\n",
       "      <td>88123</td>\n",
       "      <td>54.8</td>\n",
       "      <td>236.6</td>\n",
       "      <td>8247225.0</td>\n",
       "      <td>2048888.0</td>\n",
       "      <td>474882.0</td>\n",
       "      <td>7048.80</td>\n",
       "      <td>624.800</td>\n",
       "    </tr>\n",
       "    <tr>\n",
       "      <th>4</th>\n",
       "      <td>November</td>\n",
       "      <td>2011</td>\n",
       "      <td>11</td>\n",
       "      <td>01/11/2011</td>\n",
       "      <td>30/11/2011</td>\n",
       "      <td>Bank of Maharashtra</td>\n",
       "      <td>359</td>\n",
       "      <td>141</td>\n",
       "      <td>77</td>\n",
       "      <td>404.0</td>\n",
       "      <td>23436.0</td>\n",
       "      <td>110</td>\n",
       "      <td>15995</td>\n",
       "      <td>3.6</td>\n",
       "      <td>36.8</td>\n",
       "      <td>2286937.0</td>\n",
       "      <td>2055968.0</td>\n",
       "      <td>156694.0</td>\n",
       "      <td>6190.30</td>\n",
       "      <td>216.100</td>\n",
       "    </tr>\n",
       "    <tr>\n",
       "      <th>5</th>\n",
       "      <td>November</td>\n",
       "      <td>2011</td>\n",
       "      <td>11</td>\n",
       "      <td>01/11/2011</td>\n",
       "      <td>30/11/2011</td>\n",
       "      <td>Canara Bank</td>\n",
       "      <td>1554</td>\n",
       "      <td>1109</td>\n",
       "      <td>1007</td>\n",
       "      <td>0.0</td>\n",
       "      <td>59703.0</td>\n",
       "      <td>8615</td>\n",
       "      <td>50562</td>\n",
       "      <td>38.6</td>\n",
       "      <td>121.0</td>\n",
       "      <td>6542845.0</td>\n",
       "      <td>6346781.0</td>\n",
       "      <td>493842.0</td>\n",
       "      <td>23050.70</td>\n",
       "      <td>1000.800</td>\n",
       "    </tr>\n",
       "    <tr>\n",
       "      <th>6</th>\n",
       "      <td>November</td>\n",
       "      <td>2011</td>\n",
       "      <td>11</td>\n",
       "      <td>01/11/2011</td>\n",
       "      <td>30/11/2011</td>\n",
       "      <td>Central Bank of India</td>\n",
       "      <td>671</td>\n",
       "      <td>661</td>\n",
       "      <td>0</td>\n",
       "      <td>0.0</td>\n",
       "      <td>46995.0</td>\n",
       "      <td>101</td>\n",
       "      <td>45716</td>\n",
       "      <td>0.4</td>\n",
       "      <td>17.7</td>\n",
       "      <td>4240959.0</td>\n",
       "      <td>6262336.0</td>\n",
       "      <td>67210.0</td>\n",
       "      <td>15696.50</td>\n",
       "      <td>184.000</td>\n",
       "    </tr>\n",
       "    <tr>\n",
       "      <th>7</th>\n",
       "      <td>November</td>\n",
       "      <td>2011</td>\n",
       "      <td>11</td>\n",
       "      <td>01/11/2011</td>\n",
       "      <td>30/11/2011</td>\n",
       "      <td>Corporation Bank</td>\n",
       "      <td>712</td>\n",
       "      <td>546</td>\n",
       "      <td>15402</td>\n",
       "      <td>0.0</td>\n",
       "      <td>57999.0</td>\n",
       "      <td>1410</td>\n",
       "      <td>70898</td>\n",
       "      <td>6.4</td>\n",
       "      <td>161.3</td>\n",
       "      <td>4601069.0</td>\n",
       "      <td>3797727.0</td>\n",
       "      <td>267307.0</td>\n",
       "      <td>12277.40</td>\n",
       "      <td>426.400</td>\n",
       "    </tr>\n",
       "    <tr>\n",
       "      <th>8</th>\n",
       "      <td>November</td>\n",
       "      <td>2011</td>\n",
       "      <td>11</td>\n",
       "      <td>01/11/2011</td>\n",
       "      <td>30/11/2011</td>\n",
       "      <td>Dena Bank</td>\n",
       "      <td>424</td>\n",
       "      <td>107</td>\n",
       "      <td>0</td>\n",
       "      <td>0.0</td>\n",
       "      <td>0.0</td>\n",
       "      <td>0</td>\n",
       "      <td>0</td>\n",
       "      <td>0.0</td>\n",
       "      <td>0.0</td>\n",
       "      <td>1448665.0</td>\n",
       "      <td>1634413.0</td>\n",
       "      <td>74094.0</td>\n",
       "      <td>5286.67</td>\n",
       "      <td>109.339</td>\n",
       "    </tr>\n",
       "    <tr>\n",
       "      <th>9</th>\n",
       "      <td>November</td>\n",
       "      <td>2011</td>\n",
       "      <td>11</td>\n",
       "      <td>01/11/2011</td>\n",
       "      <td>30/11/2011</td>\n",
       "      <td>Indian Bank</td>\n",
       "      <td>882</td>\n",
       "      <td>346</td>\n",
       "      <td>0</td>\n",
       "      <td>0.0</td>\n",
       "      <td>41443.0</td>\n",
       "      <td>2442</td>\n",
       "      <td>47752</td>\n",
       "      <td>9.3</td>\n",
       "      <td>112.8</td>\n",
       "      <td>6886639.0</td>\n",
       "      <td>8586963.0</td>\n",
       "      <td>401515.0</td>\n",
       "      <td>16620.20</td>\n",
       "      <td>640.400</td>\n",
       "    </tr>\n",
       "    <tr>\n",
       "      <th>10</th>\n",
       "      <td>November</td>\n",
       "      <td>2011</td>\n",
       "      <td>11</td>\n",
       "      <td>01/11/2011</td>\n",
       "      <td>30/11/2011</td>\n",
       "      <td>Indian Overseas Bank</td>\n",
       "      <td>839</td>\n",
       "      <td>489</td>\n",
       "      <td>562</td>\n",
       "      <td>0.0</td>\n",
       "      <td>36426.0</td>\n",
       "      <td>3204</td>\n",
       "      <td>38495</td>\n",
       "      <td>5.7</td>\n",
       "      <td>88.4</td>\n",
       "      <td>3177678.0</td>\n",
       "      <td>3670495.0</td>\n",
       "      <td>280675.0</td>\n",
       "      <td>9682.90</td>\n",
       "      <td>490.900</td>\n",
       "    </tr>\n",
       "  </tbody>\n",
       "</table>\n",
       "</div>"
      ],
      "text/plain": [
       "       month  year  month_number  start_date    end_date  \\\n",
       "0   November  2011            11  01/11/2011  30/11/2011   \n",
       "1   November  2011            11  01/11/2011  30/11/2011   \n",
       "2   November  2011            11  01/11/2011  30/11/2011   \n",
       "3   November  2011            11  01/11/2011  30/11/2011   \n",
       "4   November  2011            11  01/11/2011  30/11/2011   \n",
       "5   November  2011            11  01/11/2011  30/11/2011   \n",
       "6   November  2011            11  01/11/2011  30/11/2011   \n",
       "7   November  2011            11  01/11/2011  30/11/2011   \n",
       "8   November  2011            11  01/11/2011  30/11/2011   \n",
       "9   November  2011            11  01/11/2011  30/11/2011   \n",
       "10  November  2011            11  01/11/2011  30/11/2011   \n",
       "\n",
       "                bank_name  no_atms_on_site  no_atms_off_site  no_pos_on_line  \\\n",
       "0          Allahabad Bank              207               109               0   \n",
       "1             Andhra Bank              479               554            2122   \n",
       "2          Bank of Baroda             1242               580            4332   \n",
       "3           Bank of India              838               792            1930   \n",
       "4     Bank of Maharashtra              359               141              77   \n",
       "5             Canara Bank             1554              1109            1007   \n",
       "6   Central Bank of India              671               661               0   \n",
       "7        Corporation Bank              712               546           15402   \n",
       "8               Dena Bank              424               107               0   \n",
       "9             Indian Bank              882               346               0   \n",
       "10   Indian Overseas Bank              839               489             562   \n",
       "\n",
       "    no_pos_off_line  no_credit_cards  no_credit_card_atm_txn  \\\n",
       "0               0.0              0.0                       0   \n",
       "1               0.0         121514.0                    3243   \n",
       "2               0.0          70776.0                    2046   \n",
       "3             501.0         119248.0                    7824   \n",
       "4             404.0          23436.0                     110   \n",
       "5               0.0          59703.0                    8615   \n",
       "6               0.0          46995.0                     101   \n",
       "7               0.0          57999.0                    1410   \n",
       "8               0.0              0.0                       0   \n",
       "9               0.0          41443.0                    2442   \n",
       "10              0.0          36426.0                    3204   \n",
       "\n",
       "    no_credit_card_pos_txn  no_credit_card_atm_txn_value_in_mn  \\\n",
       "0                        0                                 0.0   \n",
       "1                    92370                                28.5   \n",
       "2                    72198                                 1.5   \n",
       "3                    88123                                54.8   \n",
       "4                    15995                                 3.6   \n",
       "5                    50562                                38.6   \n",
       "6                    45716                                 0.4   \n",
       "7                    70898                                 6.4   \n",
       "8                        0                                 0.0   \n",
       "9                    47752                                 9.3   \n",
       "10                   38495                                 5.7   \n",
       "\n",
       "    no_credit_card_pos_txn_value_in_mn  no_debit_cards  no_debit_card_atm_txn  \\\n",
       "0                                  0.0       1190454.0               540824.0   \n",
       "1                                234.7       6698887.0              6871864.0   \n",
       "2                                190.4       7307099.0              6715369.0   \n",
       "3                                236.6       8247225.0              2048888.0   \n",
       "4                                 36.8       2286937.0              2055968.0   \n",
       "5                                121.0       6542845.0              6346781.0   \n",
       "6                                 17.7       4240959.0              6262336.0   \n",
       "7                                161.3       4601069.0              3797727.0   \n",
       "8                                  0.0       1448665.0              1634413.0   \n",
       "9                                112.8       6886639.0              8586963.0   \n",
       "10                                88.4       3177678.0              3670495.0   \n",
       "\n",
       "    no_debit_card_pos_txn  no_debit_card_atm_txn_value_in_mn  \\\n",
       "0                 54356.0                            1200.00   \n",
       "1                325458.0                           17775.40   \n",
       "2                462172.0                           25166.70   \n",
       "3                474882.0                            7048.80   \n",
       "4                156694.0                            6190.30   \n",
       "5                493842.0                           23050.70   \n",
       "6                 67210.0                           15696.50   \n",
       "7                267307.0                           12277.40   \n",
       "8                 74094.0                            5286.67   \n",
       "9                401515.0                           16620.20   \n",
       "10               280675.0                            9682.90   \n",
       "\n",
       "    no_debit_card_pos_txn_value_in_mn  \n",
       "0                             102.500  \n",
       "1                             451.100  \n",
       "2                             695.300  \n",
       "3                             624.800  \n",
       "4                             216.100  \n",
       "5                            1000.800  \n",
       "6                             184.000  \n",
       "7                             426.400  \n",
       "8                             109.339  \n",
       "9                             640.400  \n",
       "10                            490.900  "
      ]
     },
     "execution_count": 39,
     "metadata": {},
     "output_type": "execute_result"
    }
   ],
   "source": [
    "data.loc[0:10]"
   ]
  },
  {
   "cell_type": "code",
   "execution_count": 40,
   "id": "d808595e",
   "metadata": {},
   "outputs": [
    {
     "data": {
      "text/html": [
       "<div>\n",
       "<style scoped>\n",
       "    .dataframe tbody tr th:only-of-type {\n",
       "        vertical-align: middle;\n",
       "    }\n",
       "\n",
       "    .dataframe tbody tr th {\n",
       "        vertical-align: top;\n",
       "    }\n",
       "\n",
       "    .dataframe thead th {\n",
       "        text-align: right;\n",
       "    }\n",
       "</style>\n",
       "<table border=\"1\" class=\"dataframe\">\n",
       "  <thead>\n",
       "    <tr style=\"text-align: right;\">\n",
       "      <th></th>\n",
       "      <th>month</th>\n",
       "      <th>year</th>\n",
       "      <th>month_number</th>\n",
       "      <th>start_date</th>\n",
       "      <th>end_date</th>\n",
       "      <th>bank_name</th>\n",
       "      <th>no_atms_on_site</th>\n",
       "      <th>no_atms_off_site</th>\n",
       "      <th>no_pos_on_line</th>\n",
       "      <th>no_pos_off_line</th>\n",
       "      <th>no_credit_cards</th>\n",
       "      <th>no_credit_card_atm_txn</th>\n",
       "      <th>no_credit_card_pos_txn</th>\n",
       "      <th>no_credit_card_atm_txn_value_in_mn</th>\n",
       "      <th>no_credit_card_pos_txn_value_in_mn</th>\n",
       "      <th>no_debit_cards</th>\n",
       "      <th>no_debit_card_atm_txn</th>\n",
       "      <th>no_debit_card_pos_txn</th>\n",
       "      <th>no_debit_card_atm_txn_value_in_mn</th>\n",
       "      <th>no_debit_card_pos_txn_value_in_mn</th>\n",
       "    </tr>\n",
       "  </thead>\n",
       "  <tbody>\n",
       "    <tr>\n",
       "      <th>11</th>\n",
       "      <td>November</td>\n",
       "      <td>2011</td>\n",
       "      <td>11</td>\n",
       "      <td>01/11/2011</td>\n",
       "      <td>30/11/2011</td>\n",
       "      <td>Oriental Bank of Commerce</td>\n",
       "      <td>918</td>\n",
       "      <td>331</td>\n",
       "      <td>1076</td>\n",
       "      <td>0.0</td>\n",
       "      <td>0.0</td>\n",
       "      <td>0</td>\n",
       "      <td>0</td>\n",
       "      <td>0.00000</td>\n",
       "      <td>0.000</td>\n",
       "      <td>3079835.0</td>\n",
       "      <td>4461326.0</td>\n",
       "      <td>81177.0</td>\n",
       "      <td>11139.30</td>\n",
       "      <td>127.700</td>\n",
       "    </tr>\n",
       "    <tr>\n",
       "      <th>12</th>\n",
       "      <td>November</td>\n",
       "      <td>2011</td>\n",
       "      <td>11</td>\n",
       "      <td>01/11/2011</td>\n",
       "      <td>30/11/2011</td>\n",
       "      <td>Punjab and Sind Bank</td>\n",
       "      <td>98</td>\n",
       "      <td>16</td>\n",
       "      <td>0</td>\n",
       "      <td>0.0</td>\n",
       "      <td>0.0</td>\n",
       "      <td>0</td>\n",
       "      <td>0</td>\n",
       "      <td>0.00000</td>\n",
       "      <td>0.000</td>\n",
       "      <td>60697.0</td>\n",
       "      <td>51547.0</td>\n",
       "      <td>0.0</td>\n",
       "      <td>200.80</td>\n",
       "      <td>0.000</td>\n",
       "    </tr>\n",
       "    <tr>\n",
       "      <th>13</th>\n",
       "      <td>November</td>\n",
       "      <td>2011</td>\n",
       "      <td>11</td>\n",
       "      <td>01/11/2011</td>\n",
       "      <td>30/11/2011</td>\n",
       "      <td>Punjab National Bank</td>\n",
       "      <td>2737</td>\n",
       "      <td>3027</td>\n",
       "      <td>238</td>\n",
       "      <td>0.0</td>\n",
       "      <td>97755.0</td>\n",
       "      <td>2232</td>\n",
       "      <td>105156</td>\n",
       "      <td>10.50000</td>\n",
       "      <td>232.400</td>\n",
       "      <td>15775101.0</td>\n",
       "      <td>36467607.0</td>\n",
       "      <td>1057795.0</td>\n",
       "      <td>52540.00</td>\n",
       "      <td>1160.000</td>\n",
       "    </tr>\n",
       "    <tr>\n",
       "      <th>14</th>\n",
       "      <td>November</td>\n",
       "      <td>2011</td>\n",
       "      <td>11</td>\n",
       "      <td>01/11/2011</td>\n",
       "      <td>30/11/2011</td>\n",
       "      <td>Syndicate  Bank</td>\n",
       "      <td>1034</td>\n",
       "      <td>203</td>\n",
       "      <td>442</td>\n",
       "      <td>0.0</td>\n",
       "      <td>64773.0</td>\n",
       "      <td>2024</td>\n",
       "      <td>45168</td>\n",
       "      <td>7.68334</td>\n",
       "      <td>105.247</td>\n",
       "      <td>5920679.0</td>\n",
       "      <td>4492903.0</td>\n",
       "      <td>246083.0</td>\n",
       "      <td>15688.10</td>\n",
       "      <td>404.153</td>\n",
       "    </tr>\n",
       "    <tr>\n",
       "      <th>15</th>\n",
       "      <td>November</td>\n",
       "      <td>2011</td>\n",
       "      <td>11</td>\n",
       "      <td>01/11/2011</td>\n",
       "      <td>30/11/2011</td>\n",
       "      <td>UCO Bank</td>\n",
       "      <td>524</td>\n",
       "      <td>216</td>\n",
       "      <td>0</td>\n",
       "      <td>0.0</td>\n",
       "      <td>0.0</td>\n",
       "      <td>0</td>\n",
       "      <td>0</td>\n",
       "      <td>0.00000</td>\n",
       "      <td>0.000</td>\n",
       "      <td>1596042.0</td>\n",
       "      <td>1712392.0</td>\n",
       "      <td>108084.0</td>\n",
       "      <td>6406.90</td>\n",
       "      <td>184.700</td>\n",
       "    </tr>\n",
       "    <tr>\n",
       "      <th>...</th>\n",
       "      <td>...</td>\n",
       "      <td>...</td>\n",
       "      <td>...</td>\n",
       "      <td>...</td>\n",
       "      <td>...</td>\n",
       "      <td>...</td>\n",
       "      <td>...</td>\n",
       "      <td>...</td>\n",
       "      <td>...</td>\n",
       "      <td>...</td>\n",
       "      <td>...</td>\n",
       "      <td>...</td>\n",
       "      <td>...</td>\n",
       "      <td>...</td>\n",
       "      <td>...</td>\n",
       "      <td>...</td>\n",
       "      <td>...</td>\n",
       "      <td>...</td>\n",
       "      <td>...</td>\n",
       "      <td>...</td>\n",
       "    </tr>\n",
       "    <tr>\n",
       "      <th>95</th>\n",
       "      <td>October</td>\n",
       "      <td>2011</td>\n",
       "      <td>10</td>\n",
       "      <td>01/10/2011</td>\n",
       "      <td>31/10/2011</td>\n",
       "      <td>Kotak Mahindra Bank Ltd</td>\n",
       "      <td>309</td>\n",
       "      <td>450</td>\n",
       "      <td>0</td>\n",
       "      <td>0.0</td>\n",
       "      <td>187268.0</td>\n",
       "      <td>2192</td>\n",
       "      <td>252416</td>\n",
       "      <td>19.61480</td>\n",
       "      <td>775.188</td>\n",
       "      <td>1339652.0</td>\n",
       "      <td>2362177.0</td>\n",
       "      <td>349134.0</td>\n",
       "      <td>6283.82</td>\n",
       "      <td>598.940</td>\n",
       "    </tr>\n",
       "    <tr>\n",
       "      <th>96</th>\n",
       "      <td>October</td>\n",
       "      <td>2011</td>\n",
       "      <td>10</td>\n",
       "      <td>01/10/2011</td>\n",
       "      <td>31/10/2011</td>\n",
       "      <td>Axis Bank Ltd.</td>\n",
       "      <td>1835</td>\n",
       "      <td>5991</td>\n",
       "      <td>191379</td>\n",
       "      <td>0.0</td>\n",
       "      <td>702149.0</td>\n",
       "      <td>8562</td>\n",
       "      <td>781562</td>\n",
       "      <td>25.35300</td>\n",
       "      <td>2210.920</td>\n",
       "      <td>11205040.0</td>\n",
       "      <td>47596452.0</td>\n",
       "      <td>2749498.0</td>\n",
       "      <td>105826.00</td>\n",
       "      <td>5370.220</td>\n",
       "    </tr>\n",
       "    <tr>\n",
       "      <th>97</th>\n",
       "      <td>October</td>\n",
       "      <td>2011</td>\n",
       "      <td>10</td>\n",
       "      <td>01/10/2011</td>\n",
       "      <td>31/10/2011</td>\n",
       "      <td>Yes Bank Ltd.</td>\n",
       "      <td>195</td>\n",
       "      <td>117</td>\n",
       "      <td>2334</td>\n",
       "      <td>0.0</td>\n",
       "      <td>0.0</td>\n",
       "      <td>0</td>\n",
       "      <td>0</td>\n",
       "      <td>0.00000</td>\n",
       "      <td>0.000</td>\n",
       "      <td>172426.0</td>\n",
       "      <td>60276.0</td>\n",
       "      <td>59951.0</td>\n",
       "      <td>274.80</td>\n",
       "      <td>114.000</td>\n",
       "    </tr>\n",
       "    <tr>\n",
       "      <th>98</th>\n",
       "      <td>October</td>\n",
       "      <td>2011</td>\n",
       "      <td>10</td>\n",
       "      <td>01/10/2011</td>\n",
       "      <td>31/10/2011</td>\n",
       "      <td>RBS (ABN AMRO)</td>\n",
       "      <td>34</td>\n",
       "      <td>87</td>\n",
       "      <td>0</td>\n",
       "      <td>0.0</td>\n",
       "      <td>200818.0</td>\n",
       "      <td>1369</td>\n",
       "      <td>227243</td>\n",
       "      <td>11.72990</td>\n",
       "      <td>679.014</td>\n",
       "      <td>314039.0</td>\n",
       "      <td>583640.0</td>\n",
       "      <td>161888.0</td>\n",
       "      <td>2347.50</td>\n",
       "      <td>317.426</td>\n",
       "    </tr>\n",
       "    <tr>\n",
       "      <th>99</th>\n",
       "      <td>October</td>\n",
       "      <td>2011</td>\n",
       "      <td>10</td>\n",
       "      <td>01/10/2011</td>\n",
       "      <td>31/10/2011</td>\n",
       "      <td>American Express Bkg. Corp.</td>\n",
       "      <td>0</td>\n",
       "      <td>0</td>\n",
       "      <td>16346</td>\n",
       "      <td>0.0</td>\n",
       "      <td>605478.0</td>\n",
       "      <td>0</td>\n",
       "      <td>1585016</td>\n",
       "      <td>0.00000</td>\n",
       "      <td>11877.400</td>\n",
       "      <td>0.0</td>\n",
       "      <td>0.0</td>\n",
       "      <td>0.0</td>\n",
       "      <td>0.00</td>\n",
       "      <td>0.000</td>\n",
       "    </tr>\n",
       "  </tbody>\n",
       "</table>\n",
       "<p>89 rows × 20 columns</p>\n",
       "</div>"
      ],
      "text/plain": [
       "       month  year  month_number  start_date    end_date  \\\n",
       "11  November  2011            11  01/11/2011  30/11/2011   \n",
       "12  November  2011            11  01/11/2011  30/11/2011   \n",
       "13  November  2011            11  01/11/2011  30/11/2011   \n",
       "14  November  2011            11  01/11/2011  30/11/2011   \n",
       "15  November  2011            11  01/11/2011  30/11/2011   \n",
       "..       ...   ...           ...         ...         ...   \n",
       "95   October  2011            10  01/10/2011  31/10/2011   \n",
       "96   October  2011            10  01/10/2011  31/10/2011   \n",
       "97   October  2011            10  01/10/2011  31/10/2011   \n",
       "98   October  2011            10  01/10/2011  31/10/2011   \n",
       "99   October  2011            10  01/10/2011  31/10/2011   \n",
       "\n",
       "                      bank_name  no_atms_on_site  no_atms_off_site  \\\n",
       "11    Oriental Bank of Commerce              918               331   \n",
       "12         Punjab and Sind Bank               98                16   \n",
       "13         Punjab National Bank             2737              3027   \n",
       "14              Syndicate  Bank             1034               203   \n",
       "15                     UCO Bank              524               216   \n",
       "..                          ...              ...               ...   \n",
       "95      Kotak Mahindra Bank Ltd              309               450   \n",
       "96               Axis Bank Ltd.             1835              5991   \n",
       "97                Yes Bank Ltd.              195               117   \n",
       "98               RBS (ABN AMRO)               34                87   \n",
       "99  American Express Bkg. Corp.                0                 0   \n",
       "\n",
       "    no_pos_on_line  no_pos_off_line  no_credit_cards  no_credit_card_atm_txn  \\\n",
       "11            1076              0.0              0.0                       0   \n",
       "12               0              0.0              0.0                       0   \n",
       "13             238              0.0          97755.0                    2232   \n",
       "14             442              0.0          64773.0                    2024   \n",
       "15               0              0.0              0.0                       0   \n",
       "..             ...              ...              ...                     ...   \n",
       "95               0              0.0         187268.0                    2192   \n",
       "96          191379              0.0         702149.0                    8562   \n",
       "97            2334              0.0              0.0                       0   \n",
       "98               0              0.0         200818.0                    1369   \n",
       "99           16346              0.0         605478.0                       0   \n",
       "\n",
       "    no_credit_card_pos_txn  no_credit_card_atm_txn_value_in_mn  \\\n",
       "11                       0                             0.00000   \n",
       "12                       0                             0.00000   \n",
       "13                  105156                            10.50000   \n",
       "14                   45168                             7.68334   \n",
       "15                       0                             0.00000   \n",
       "..                     ...                                 ...   \n",
       "95                  252416                            19.61480   \n",
       "96                  781562                            25.35300   \n",
       "97                       0                             0.00000   \n",
       "98                  227243                            11.72990   \n",
       "99                 1585016                             0.00000   \n",
       "\n",
       "    no_credit_card_pos_txn_value_in_mn  no_debit_cards  no_debit_card_atm_txn  \\\n",
       "11                               0.000       3079835.0              4461326.0   \n",
       "12                               0.000         60697.0                51547.0   \n",
       "13                             232.400      15775101.0             36467607.0   \n",
       "14                             105.247       5920679.0              4492903.0   \n",
       "15                               0.000       1596042.0              1712392.0   \n",
       "..                                 ...             ...                    ...   \n",
       "95                             775.188       1339652.0              2362177.0   \n",
       "96                            2210.920      11205040.0             47596452.0   \n",
       "97                               0.000        172426.0                60276.0   \n",
       "98                             679.014        314039.0               583640.0   \n",
       "99                           11877.400             0.0                    0.0   \n",
       "\n",
       "    no_debit_card_pos_txn  no_debit_card_atm_txn_value_in_mn  \\\n",
       "11                81177.0                           11139.30   \n",
       "12                    0.0                             200.80   \n",
       "13              1057795.0                           52540.00   \n",
       "14               246083.0                           15688.10   \n",
       "15               108084.0                            6406.90   \n",
       "..                    ...                                ...   \n",
       "95               349134.0                            6283.82   \n",
       "96              2749498.0                          105826.00   \n",
       "97                59951.0                             274.80   \n",
       "98               161888.0                            2347.50   \n",
       "99                    0.0                               0.00   \n",
       "\n",
       "    no_debit_card_pos_txn_value_in_mn  \n",
       "11                            127.700  \n",
       "12                              0.000  \n",
       "13                           1160.000  \n",
       "14                            404.153  \n",
       "15                            184.700  \n",
       "..                                ...  \n",
       "95                            598.940  \n",
       "96                           5370.220  \n",
       "97                            114.000  \n",
       "98                            317.426  \n",
       "99                              0.000  \n",
       "\n",
       "[89 rows x 20 columns]"
      ]
     },
     "execution_count": 40,
     "metadata": {},
     "output_type": "execute_result"
    }
   ],
   "source": [
    "data.loc[11:99]"
   ]
  },
  {
   "cell_type": "code",
   "execution_count": 41,
   "id": "427299ce",
   "metadata": {},
   "outputs": [
    {
     "data": {
      "text/plain": [
       "bank_name                        no_atms_on_site\n",
       "ADITYA BIRLA IDEA PAYMENTS BANK  0                  14\n",
       "AIRTEL PAYMENTS BANK             0                  14\n",
       "ALLAHABAD BANK                   820                 3\n",
       "                                 663                 2\n",
       "                                 718                 2\n",
       "Name: no_atms_on_site, dtype: int64"
      ]
     },
     "execution_count": 41,
     "metadata": {},
     "output_type": "execute_result"
    }
   ],
   "source": [
    "data.groupby('bank_name')['no_atms_on_site'].value_counts().head()\n"
   ]
  },
  {
   "cell_type": "code",
   "execution_count": 42,
   "id": "9988c520",
   "metadata": {},
   "outputs": [
    {
     "data": {
      "text/plain": [
       "bank_name                        no_atms_off_site\n",
       "ADITYA BIRLA IDEA PAYMENTS BANK  0                   14\n",
       "AIRTEL PAYMENTS BANK             0                   14\n",
       "ALLAHABAD BANK                   449                  5\n",
       "                                 100                  3\n",
       "                                 265                  3\n",
       "Name: no_atms_off_site, dtype: int64"
      ]
     },
     "execution_count": 42,
     "metadata": {},
     "output_type": "execute_result"
    }
   ],
   "source": [
    "data.groupby('bank_name')['no_atms_off_site'].value_counts().head()"
   ]
  },
  {
   "cell_type": "code",
   "execution_count": 43,
   "id": "d83ab202",
   "metadata": {},
   "outputs": [
    {
     "data": {
      "text/plain": [
       "bank_name                        no_pos_on_line\n",
       "ADITYA BIRLA IDEA PAYMENTS BANK  0                 14\n",
       "AIRTEL PAYMENTS BANK             0                 14\n",
       "ALLAHABAD BANK                   10                16\n",
       "                                 316                8\n",
       "                                 0                  3\n",
       "Name: no_pos_on_line, dtype: int64"
      ]
     },
     "execution_count": 43,
     "metadata": {},
     "output_type": "execute_result"
    }
   ],
   "source": [
    "data.groupby('bank_name')['no_pos_on_line'].value_counts().head()"
   ]
  },
  {
   "cell_type": "code",
   "execution_count": 44,
   "id": "361a4a89",
   "metadata": {},
   "outputs": [
    {
     "data": {
      "text/plain": [
       "array([['November', 2011, 11, ..., 54356.0, 1200.0, 102.5],\n",
       "       ['November', 2011, 11, ..., 325458.0, 17775.4, 451.1],\n",
       "       ['November', 2011, 11, ..., 462172.0, 25166.7, 695.3],\n",
       "       ...,\n",
       "       ['August', 2019, 8, ..., 13358.0, 470.029, 135.0817039],\n",
       "       ['August', 2019, 8, ..., 365036.0, 85077.473, 3114.916755],\n",
       "       ['August', 2019, 8, ..., 38009.0, 3293.056176, 384.3292453]],\n",
       "      dtype=object)"
      ]
     },
     "execution_count": 44,
     "metadata": {},
     "output_type": "execute_result"
    }
   ],
   "source": [
    "data.values"
   ]
  },
  {
   "cell_type": "code",
   "execution_count": 45,
   "id": "c0d2d43a",
   "metadata": {},
   "outputs": [
    {
     "data": {
      "text/plain": [
       "year  bank_name     \n",
       "2011  Allahabad Bank    9\n",
       "      Andhra Bank       9\n",
       "      Axis Bank Ltd.    9\n",
       "      Bank of Baroda    9\n",
       "      Bank of India     9\n",
       "Name: bank_name, dtype: int64"
      ]
     },
     "execution_count": 45,
     "metadata": {},
     "output_type": "execute_result"
    }
   ],
   "source": [
    "data.groupby('year')['bank_name'].value_counts().head()"
   ]
  },
  {
   "cell_type": "code",
   "execution_count": 46,
   "id": "8308c1b8",
   "metadata": {},
   "outputs": [
    {
     "name": "stdout",
     "output_type": "stream",
     "text": [
      "CITY UNION BANK                  65\n",
      "FEDERAL BANK LTD                 65\n",
      "ALLAHABAD BANK                   65\n",
      "CATHOLIC SYRIAN BANK LTD         65\n",
      "AXIS BANK LTD                    65\n",
      "                                 ..\n",
      "Jio Payments Bank                 3\n",
      "Tamilnad Mercantile Bank Ltd.     2\n",
      "Bank of America                   2\n",
      "The Lakshmi Vilas Bank Ltd.       2\n",
      "Bandhan Bank Ltd                  1\n",
      "Name: bank_name, Length: 154, dtype: int64\n"
     ]
    }
   ],
   "source": [
    "print(data['bank_name'].value_counts())"
   ]
  },
  {
   "cell_type": "code",
   "execution_count": 47,
   "id": "7e4f0c32",
   "metadata": {},
   "outputs": [
    {
     "name": "stdout",
     "output_type": "stream",
     "text": [
      "April        560\n",
      "June         505\n",
      "May          504\n",
      "August       497\n",
      "July         497\n",
      "February     443\n",
      "March        443\n",
      "December     442\n",
      "November     438\n",
      "January      438\n",
      "September    437\n",
      "October      388\n",
      "Name: month, dtype: int64\n"
     ]
    }
   ],
   "source": [
    "print(data['month'].value_counts())"
   ]
  },
  {
   "cell_type": "code",
   "execution_count": 48,
   "id": "def6eab4",
   "metadata": {},
   "outputs": [
    {
     "name": "stdout",
     "output_type": "stream",
     "text": [
      "2018    741\n",
      "2016    672\n",
      "2015    654\n",
      "2014    652\n",
      "2012    639\n",
      "2013    617\n",
      "2017    611\n",
      "2019    517\n",
      "2011    489\n",
      "Name: year, dtype: int64\n"
     ]
    }
   ],
   "source": [
    "print(data['year'].value_counts())"
   ]
  },
  {
   "cell_type": "code",
   "execution_count": 49,
   "id": "1e640814",
   "metadata": {},
   "outputs": [
    {
     "name": "stdout",
     "output_type": "stream",
     "text": [
      "4     560\n",
      "6     505\n",
      "5     504\n",
      "8     497\n",
      "7     497\n",
      "2     443\n",
      "3     443\n",
      "12    442\n",
      "11    438\n",
      "1     438\n",
      "9     437\n",
      "10    388\n",
      "Name: month_number, dtype: int64\n"
     ]
    }
   ],
   "source": [
    "print(data['month_number'].value_counts())"
   ]
  },
  {
   "cell_type": "code",
   "execution_count": 50,
   "id": "e8e3d1c7",
   "metadata": {},
   "outputs": [
    {
     "name": "stdout",
     "output_type": "stream",
     "text": [
      "Shape (5592, 20)\n",
      "Size 111840\n",
      "Dimension 2\n",
      "Type object\n",
      "Bytes 894720\n",
      "Itemsize 8\n"
     ]
    }
   ],
   "source": [
    "#get all information about dataset\n",
    "print(\"Shape\",data.values.shape)\n",
    "print(\"Size\",data.values.size)\n",
    "print(\"Dimension\",data.values.ndim)\n",
    "print(\"Type\",data.values.dtype)\n",
    "print(\"Bytes\",data.values.nbytes)\n",
    "print(\"Itemsize\",data.values.itemsize)\n"
   ]
  },
  {
   "cell_type": "code",
   "execution_count": 51,
   "id": "9f252e95",
   "metadata": {},
   "outputs": [
    {
     "data": {
      "text/plain": [
       "'3.4.2'"
      ]
     },
     "execution_count": 51,
     "metadata": {},
     "output_type": "execute_result"
    }
   ],
   "source": [
    "#visualization using matplotlib\n",
    "mlt.__version__"
   ]
  },
  {
   "cell_type": "code",
   "execution_count": 52,
   "id": "04230232",
   "metadata": {},
   "outputs": [
    {
     "name": "stdout",
     "output_type": "stream",
     "text": [
      "[<matplotlib.lines.Line2D object at 0x000002741CBFF550>]\n"
     ]
    },
    {
     "data": {
      "image/png": "[encoded data removed]",
      "text/plain": [
       "<Figure size 432x288 with 1 Axes>"
      ]
     },
     "metadata": {
      "needs_background": "light"
     },
     "output_type": "display_data"
    }
   ],
   "source": [
    "print(plt.plot(data.no_atms_on_site))"
   ]
  },
  {
   "cell_type": "code",
   "execution_count": 53,
   "id": "05d0a48c",
   "metadata": {},
   "outputs": [
    {
     "name": "stdout",
     "output_type": "stream",
     "text": [
      "[<matplotlib.lines.Line2D object at 0x000002741CB83640>]\n"
     ]
    },
    {
     "data": {
      "image/png": "[encoded data removed]",
      "text/plain": [
       "<Figure size 432x288 with 1 Axes>"
      ]
     },
     "metadata": {
      "needs_background": "light"
     },
     "output_type": "display_data"
    }
   ],
   "source": [
    "print(plt.plot(data.no_atms_off_site))"
   ]
  },
  {
   "cell_type": "code",
   "execution_count": 54,
   "id": "2ef7f837",
   "metadata": {},
   "outputs": [
    {
     "name": "stdout",
     "output_type": "stream",
     "text": [
      "[<matplotlib.lines.Line2D object at 0x000002741CB277F0>]\n"
     ]
    },
    {
     "data": {
      "image/png": "[encoded data removed]",
      "text/plain": [
       "<Figure size 432x288 with 1 Axes>"
      ]
     },
     "metadata": {
      "needs_background": "light"
     },
     "output_type": "display_data"
    }
   ],
   "source": [
    "print(plt.plot(data.no_pos_on_line))"
   ]
  },
  {
   "cell_type": "code",
   "execution_count": 55,
   "id": "372283d5",
   "metadata": {},
   "outputs": [
    {
     "name": "stdout",
     "output_type": "stream",
     "text": [
      "[<matplotlib.lines.Line2D object at 0x000002741CB0EA00>]\n"
     ]
    },
    {
     "data": {
      "image/png": "[encoded data removed]",
      "text/plain": [
       "<Figure size 432x288 with 1 Axes>"
      ]
     },
     "metadata": {
      "needs_background": "light"
     },
     "output_type": "display_data"
    }
   ],
   "source": [
    "\n",
    "print(plt.plot(data.no_credit_cards))\n"
   ]
  },
  {
   "cell_type": "code",
   "execution_count": 56,
   "id": "3d37052f",
   "metadata": {},
   "outputs": [
    {
     "data": {
      "image/png": "[encoded data removed]",
      "text/plain": [
       "<Figure size 432x288 with 1 Axes>"
      ]
     },
     "metadata": {
      "needs_background": "light"
     },
     "output_type": "display_data"
    }
   ],
   "source": [
    "#number o Atms on site\n",
    "x = data['year']\n",
    "y = data['no_atms_on_site']\n",
    "\n",
    "plt.bar(x,y)\n",
    "\n",
    "plt.show()"
   ]
  },
  {
   "cell_type": "code",
   "execution_count": 57,
   "id": "b5bc8a55",
   "metadata": {},
   "outputs": [
    {
     "data": {
      "image/png": "[encoded data removed]",
      "text/plain": [
       "<Figure size 432x288 with 1 Axes>"
      ]
     },
     "metadata": {
      "needs_background": "light"
     },
     "output_type": "display_data"
    }
   ],
   "source": [
    "x = data['year']\n",
    "y = data['no_atms_off_site']\n",
    "\n",
    "plt.bar(x,y)\n",
    "plt.show()"
   ]
  },
  {
   "cell_type": "code",
   "execution_count": null,
   "id": "628479f8",
   "metadata": {},
   "outputs": [],
   "source": []
  },
  {
   "cell_type": "code",
   "execution_count": null,
   "id": "54456c58",
   "metadata": {},
   "outputs": [],
   "source": []
  }
 ],
 "metadata": {
  "kernelspec": {
   "display_name": "Python 3",
   "language": "python",
   "name": "python3"
  },
  "language_info": {
   "codemirror_mode": {
    "name": "ipython",
    "version": 3
   },
   "file_extension": ".py",
   "mimetype": "text/x-python",
   "name": "python",
   "nbconvert_exporter": "python",
   "pygments_lexer": "ipython3",
   "version": "3.9.4"
  }
 },
 "nbformat": 4,
 "nbformat_minor": 5
}
